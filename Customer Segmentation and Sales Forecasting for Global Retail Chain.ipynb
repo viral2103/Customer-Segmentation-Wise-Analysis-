{
 "cells": [
  {
   "cell_type": "code",
   "execution_count": 1,
   "id": "7045c101-1f96-400c-b439-1cee7f2ce5ee",
   "metadata": {},
   "outputs": [],
   "source": [
    "import pandas as pd"
   ]
  },
  {
   "cell_type": "code",
   "execution_count": 2,
   "id": "c00b9c52-c3c4-4b02-b9d5-28e75c0f03c4",
   "metadata": {},
   "outputs": [
    {
     "data": {
      "text/html": [
       "<div>\n",
       "<style scoped>\n",
       "    .dataframe tbody tr th:only-of-type {\n",
       "        vertical-align: middle;\n",
       "    }\n",
       "\n",
       "    .dataframe tbody tr th {\n",
       "        vertical-align: top;\n",
       "    }\n",
       "\n",
       "    .dataframe thead th {\n",
       "        text-align: right;\n",
       "    }\n",
       "</style>\n",
       "<table border=\"1\" class=\"dataframe\">\n",
       "  <thead>\n",
       "    <tr style=\"text-align: right;\">\n",
       "      <th></th>\n",
       "      <th>Row ID</th>\n",
       "      <th>Order ID</th>\n",
       "      <th>Unnamed: 2</th>\n",
       "      <th>Order Date</th>\n",
       "      <th>Ship Date</th>\n",
       "      <th>Ship Mode</th>\n",
       "      <th>Customer ID</th>\n",
       "      <th>Customer Name</th>\n",
       "      <th>Segment</th>\n",
       "      <th>Country</th>\n",
       "      <th>...</th>\n",
       "      <th>Postal Code</th>\n",
       "      <th>Region</th>\n",
       "      <th>Product ID</th>\n",
       "      <th>Category</th>\n",
       "      <th>Sub-Category</th>\n",
       "      <th>Product Name</th>\n",
       "      <th>Sales</th>\n",
       "      <th>Quantity</th>\n",
       "      <th>Discount</th>\n",
       "      <th>Profit</th>\n",
       "    </tr>\n",
       "  </thead>\n",
       "  <tbody>\n",
       "    <tr>\n",
       "      <th>1</th>\n",
       "      <td>1</td>\n",
       "      <td>CA-2016-152156</td>\n",
       "      <td>NaN</td>\n",
       "      <td>11-08-2016</td>\n",
       "      <td>11-08-2016</td>\n",
       "      <td>Second Class</td>\n",
       "      <td>CG-12520</td>\n",
       "      <td>Claire Gute</td>\n",
       "      <td>Consumer</td>\n",
       "      <td>United States</td>\n",
       "      <td>...</td>\n",
       "      <td>42420</td>\n",
       "      <td>South</td>\n",
       "      <td>FUR-BO-10001798</td>\n",
       "      <td>Furniture</td>\n",
       "      <td>Bookcases</td>\n",
       "      <td>Bush Somerset Collection Bookcase</td>\n",
       "      <td>261.9600</td>\n",
       "      <td>2</td>\n",
       "      <td>0.00</td>\n",
       "      <td>41.9136</td>\n",
       "    </tr>\n",
       "    <tr>\n",
       "      <th>2</th>\n",
       "      <td>2</td>\n",
       "      <td>CA-2016-152156</td>\n",
       "      <td>NaN</td>\n",
       "      <td>11-08-2016</td>\n",
       "      <td>11-08-2016</td>\n",
       "      <td>Second Class</td>\n",
       "      <td>CG-12520</td>\n",
       "      <td>Claire Gute</td>\n",
       "      <td>Consumer</td>\n",
       "      <td>United States</td>\n",
       "      <td>...</td>\n",
       "      <td>42420</td>\n",
       "      <td>South</td>\n",
       "      <td>FUR-CH-10000454</td>\n",
       "      <td>Furniture</td>\n",
       "      <td>Chairs</td>\n",
       "      <td>Hon Deluxe Fabric Upholstered Stacking Chairs,...</td>\n",
       "      <td>731.9400</td>\n",
       "      <td>3</td>\n",
       "      <td>0.00</td>\n",
       "      <td>219.5820</td>\n",
       "    </tr>\n",
       "    <tr>\n",
       "      <th>3</th>\n",
       "      <td>3</td>\n",
       "      <td>CA-2016-138688</td>\n",
       "      <td>NaN</td>\n",
       "      <td>06-12-2016</td>\n",
       "      <td>06-12-2016</td>\n",
       "      <td>Second Class</td>\n",
       "      <td>DV-13045</td>\n",
       "      <td>Darrin Van Huff</td>\n",
       "      <td>Corporate</td>\n",
       "      <td>United States</td>\n",
       "      <td>...</td>\n",
       "      <td>90036</td>\n",
       "      <td>West</td>\n",
       "      <td>OFF-LA-10000240</td>\n",
       "      <td>Office Supplies</td>\n",
       "      <td>Labels</td>\n",
       "      <td>Self-Adhesive Address Labels for Typewriters b...</td>\n",
       "      <td>14.6200</td>\n",
       "      <td>2</td>\n",
       "      <td>0.00</td>\n",
       "      <td>6.8714</td>\n",
       "    </tr>\n",
       "    <tr>\n",
       "      <th>4</th>\n",
       "      <td>4</td>\n",
       "      <td>US-2015-108966</td>\n",
       "      <td>NaN</td>\n",
       "      <td>10-11-2015</td>\n",
       "      <td>10-11-2015</td>\n",
       "      <td>Standard Class</td>\n",
       "      <td>SO-20335</td>\n",
       "      <td>Sean O'Donnell</td>\n",
       "      <td>Consumer</td>\n",
       "      <td>United States</td>\n",
       "      <td>...</td>\n",
       "      <td>33311</td>\n",
       "      <td>South</td>\n",
       "      <td>FUR-TA-10000577</td>\n",
       "      <td>Furniture</td>\n",
       "      <td>Tables</td>\n",
       "      <td>Bretford CR4500 Series Slim Rectangular Table</td>\n",
       "      <td>957.5775</td>\n",
       "      <td>5</td>\n",
       "      <td>0.45</td>\n",
       "      <td>-383.0310</td>\n",
       "    </tr>\n",
       "    <tr>\n",
       "      <th>5</th>\n",
       "      <td>5</td>\n",
       "      <td>US-2015-108966</td>\n",
       "      <td>NaN</td>\n",
       "      <td>10-11-2015</td>\n",
       "      <td>10-11-2015</td>\n",
       "      <td>Standard Class</td>\n",
       "      <td>SO-20335</td>\n",
       "      <td>Sean O'Donnell</td>\n",
       "      <td>Consumer</td>\n",
       "      <td>United States</td>\n",
       "      <td>...</td>\n",
       "      <td>33311</td>\n",
       "      <td>South</td>\n",
       "      <td>OFF-ST-10000760</td>\n",
       "      <td>Office Supplies</td>\n",
       "      <td>Storage</td>\n",
       "      <td>Eldon Fold 'N Roll Cart System</td>\n",
       "      <td>22.3680</td>\n",
       "      <td>2</td>\n",
       "      <td>0.20</td>\n",
       "      <td>2.5164</td>\n",
       "    </tr>\n",
       "    <tr>\n",
       "      <th>...</th>\n",
       "      <td>...</td>\n",
       "      <td>...</td>\n",
       "      <td>...</td>\n",
       "      <td>...</td>\n",
       "      <td>...</td>\n",
       "      <td>...</td>\n",
       "      <td>...</td>\n",
       "      <td>...</td>\n",
       "      <td>...</td>\n",
       "      <td>...</td>\n",
       "      <td>...</td>\n",
       "      <td>...</td>\n",
       "      <td>...</td>\n",
       "      <td>...</td>\n",
       "      <td>...</td>\n",
       "      <td>...</td>\n",
       "      <td>...</td>\n",
       "      <td>...</td>\n",
       "      <td>...</td>\n",
       "      <td>...</td>\n",
       "      <td>...</td>\n",
       "    </tr>\n",
       "    <tr>\n",
       "      <th>9990</th>\n",
       "      <td>9990</td>\n",
       "      <td>CA-2014-110422</td>\n",
       "      <td>NaN</td>\n",
       "      <td>1-21-2014</td>\n",
       "      <td>1-21-2014</td>\n",
       "      <td>Second Class</td>\n",
       "      <td>TB-21400</td>\n",
       "      <td>Tom Boeckenhauer</td>\n",
       "      <td>Consumer</td>\n",
       "      <td>United States</td>\n",
       "      <td>...</td>\n",
       "      <td>33180</td>\n",
       "      <td>South</td>\n",
       "      <td>FUR-FU-10001889</td>\n",
       "      <td>Furniture</td>\n",
       "      <td>Furnishings</td>\n",
       "      <td>Ultra Door Pull Handle</td>\n",
       "      <td>25.2480</td>\n",
       "      <td>3</td>\n",
       "      <td>0.20</td>\n",
       "      <td>4.1028</td>\n",
       "    </tr>\n",
       "    <tr>\n",
       "      <th>9991</th>\n",
       "      <td>9991</td>\n",
       "      <td>CA-2017-121258</td>\n",
       "      <td>NaN</td>\n",
       "      <td>2-26-2017</td>\n",
       "      <td>2-26-2017</td>\n",
       "      <td>Standard Class</td>\n",
       "      <td>DB-13060</td>\n",
       "      <td>Dave Brooks</td>\n",
       "      <td>Consumer</td>\n",
       "      <td>United States</td>\n",
       "      <td>...</td>\n",
       "      <td>92627</td>\n",
       "      <td>West</td>\n",
       "      <td>FUR-FU-10000747</td>\n",
       "      <td>Furniture</td>\n",
       "      <td>Furnishings</td>\n",
       "      <td>Tenex B1-RE Series Chair Mats for Low Pile Car...</td>\n",
       "      <td>91.9600</td>\n",
       "      <td>2</td>\n",
       "      <td>0.00</td>\n",
       "      <td>15.6332</td>\n",
       "    </tr>\n",
       "    <tr>\n",
       "      <th>9992</th>\n",
       "      <td>9992</td>\n",
       "      <td>CA-2017-121258</td>\n",
       "      <td>NaN</td>\n",
       "      <td>2-26-2017</td>\n",
       "      <td>2-26-2017</td>\n",
       "      <td>Standard Class</td>\n",
       "      <td>DB-13060</td>\n",
       "      <td>Dave Brooks</td>\n",
       "      <td>Consumer</td>\n",
       "      <td>United States</td>\n",
       "      <td>...</td>\n",
       "      <td>92627</td>\n",
       "      <td>West</td>\n",
       "      <td>TEC-PH-10003645</td>\n",
       "      <td>Technology</td>\n",
       "      <td>Phones</td>\n",
       "      <td>Aastra 57i VoIP phone</td>\n",
       "      <td>258.5760</td>\n",
       "      <td>2</td>\n",
       "      <td>0.20</td>\n",
       "      <td>19.3932</td>\n",
       "    </tr>\n",
       "    <tr>\n",
       "      <th>9993</th>\n",
       "      <td>9993</td>\n",
       "      <td>CA-2017-121258</td>\n",
       "      <td>NaN</td>\n",
       "      <td>2-26-2017</td>\n",
       "      <td>2-26-2017</td>\n",
       "      <td>Standard Class</td>\n",
       "      <td>DB-13060</td>\n",
       "      <td>Dave Brooks</td>\n",
       "      <td>Consumer</td>\n",
       "      <td>United States</td>\n",
       "      <td>...</td>\n",
       "      <td>92627</td>\n",
       "      <td>West</td>\n",
       "      <td>OFF-PA-10004041</td>\n",
       "      <td>Office Supplies</td>\n",
       "      <td>Paper</td>\n",
       "      <td>It's Hot Message Books with Stickers, 2 3/4\" x 5\"</td>\n",
       "      <td>29.6000</td>\n",
       "      <td>4</td>\n",
       "      <td>0.00</td>\n",
       "      <td>13.3200</td>\n",
       "    </tr>\n",
       "    <tr>\n",
       "      <th>9994</th>\n",
       "      <td>9994</td>\n",
       "      <td>CA-2017-119914</td>\n",
       "      <td>NaN</td>\n",
       "      <td>05-04-2017</td>\n",
       "      <td>05-04-2017</td>\n",
       "      <td>Second Class</td>\n",
       "      <td>CC-12220</td>\n",
       "      <td>Chris Cortes</td>\n",
       "      <td>Consumer</td>\n",
       "      <td>United States</td>\n",
       "      <td>...</td>\n",
       "      <td>92683</td>\n",
       "      <td>West</td>\n",
       "      <td>OFF-AP-10002684</td>\n",
       "      <td>Office Supplies</td>\n",
       "      <td>Appliances</td>\n",
       "      <td>Acco 7-Outlet Masterpiece Power Center, Wihtou...</td>\n",
       "      <td>243.1600</td>\n",
       "      <td>2</td>\n",
       "      <td>0.00</td>\n",
       "      <td>72.9480</td>\n",
       "    </tr>\n",
       "  </tbody>\n",
       "</table>\n",
       "<p>9994 rows × 22 columns</p>\n",
       "</div>"
      ],
      "text/plain": [
       "      Row ID        Order ID  Unnamed: 2  Order Date   Ship Date  \\\n",
       "1          1  CA-2016-152156         NaN  11-08-2016  11-08-2016   \n",
       "2          2  CA-2016-152156         NaN  11-08-2016  11-08-2016   \n",
       "3          3  CA-2016-138688         NaN  06-12-2016  06-12-2016   \n",
       "4          4  US-2015-108966         NaN  10-11-2015  10-11-2015   \n",
       "5          5  US-2015-108966         NaN  10-11-2015  10-11-2015   \n",
       "...      ...             ...         ...         ...         ...   \n",
       "9990    9990  CA-2014-110422         NaN   1-21-2014   1-21-2014   \n",
       "9991    9991  CA-2017-121258         NaN   2-26-2017   2-26-2017   \n",
       "9992    9992  CA-2017-121258         NaN   2-26-2017   2-26-2017   \n",
       "9993    9993  CA-2017-121258         NaN   2-26-2017   2-26-2017   \n",
       "9994    9994  CA-2017-119914         NaN  05-04-2017  05-04-2017   \n",
       "\n",
       "           Ship Mode Customer ID     Customer Name    Segment        Country  \\\n",
       "1       Second Class    CG-12520       Claire Gute   Consumer  United States   \n",
       "2       Second Class    CG-12520       Claire Gute   Consumer  United States   \n",
       "3       Second Class    DV-13045   Darrin Van Huff  Corporate  United States   \n",
       "4     Standard Class    SO-20335    Sean O'Donnell   Consumer  United States   \n",
       "5     Standard Class    SO-20335    Sean O'Donnell   Consumer  United States   \n",
       "...              ...         ...               ...        ...            ...   \n",
       "9990    Second Class    TB-21400  Tom Boeckenhauer   Consumer  United States   \n",
       "9991  Standard Class    DB-13060       Dave Brooks   Consumer  United States   \n",
       "9992  Standard Class    DB-13060       Dave Brooks   Consumer  United States   \n",
       "9993  Standard Class    DB-13060       Dave Brooks   Consumer  United States   \n",
       "9994    Second Class    CC-12220      Chris Cortes   Consumer  United States   \n",
       "\n",
       "      ... Postal Code Region       Product ID         Category Sub-Category  \\\n",
       "1     ...       42420  South  FUR-BO-10001798        Furniture    Bookcases   \n",
       "2     ...       42420  South  FUR-CH-10000454        Furniture       Chairs   \n",
       "3     ...       90036   West  OFF-LA-10000240  Office Supplies       Labels   \n",
       "4     ...       33311  South  FUR-TA-10000577        Furniture       Tables   \n",
       "5     ...       33311  South  OFF-ST-10000760  Office Supplies      Storage   \n",
       "...   ...         ...    ...              ...              ...          ...   \n",
       "9990  ...       33180  South  FUR-FU-10001889        Furniture  Furnishings   \n",
       "9991  ...       92627   West  FUR-FU-10000747        Furniture  Furnishings   \n",
       "9992  ...       92627   West  TEC-PH-10003645       Technology       Phones   \n",
       "9993  ...       92627   West  OFF-PA-10004041  Office Supplies        Paper   \n",
       "9994  ...       92683   West  OFF-AP-10002684  Office Supplies   Appliances   \n",
       "\n",
       "                                           Product Name     Sales Quantity  \\\n",
       "1                     Bush Somerset Collection Bookcase  261.9600        2   \n",
       "2     Hon Deluxe Fabric Upholstered Stacking Chairs,...  731.9400        3   \n",
       "3     Self-Adhesive Address Labels for Typewriters b...   14.6200        2   \n",
       "4         Bretford CR4500 Series Slim Rectangular Table  957.5775        5   \n",
       "5                        Eldon Fold 'N Roll Cart System   22.3680        2   \n",
       "...                                                 ...       ...      ...   \n",
       "9990                             Ultra Door Pull Handle   25.2480        3   \n",
       "9991  Tenex B1-RE Series Chair Mats for Low Pile Car...   91.9600        2   \n",
       "9992                              Aastra 57i VoIP phone  258.5760        2   \n",
       "9993  It's Hot Message Books with Stickers, 2 3/4\" x 5\"   29.6000        4   \n",
       "9994  Acco 7-Outlet Masterpiece Power Center, Wihtou...  243.1600        2   \n",
       "\n",
       "      Discount    Profit  \n",
       "1         0.00   41.9136  \n",
       "2         0.00  219.5820  \n",
       "3         0.00    6.8714  \n",
       "4         0.45 -383.0310  \n",
       "5         0.20    2.5164  \n",
       "...        ...       ...  \n",
       "9990      0.20    4.1028  \n",
       "9991      0.00   15.6332  \n",
       "9992      0.20   19.3932  \n",
       "9993      0.00   13.3200  \n",
       "9994      0.00   72.9480  \n",
       "\n",
       "[9994 rows x 22 columns]"
      ]
     },
     "execution_count": 2,
     "metadata": {},
     "output_type": "execute_result"
    }
   ],
   "source": [
    "df=pd.read_csv('superstore.csv',encoding='ISO-8859-1')\n",
    "df.index=range(1,len(df) + 1)\n",
    "df"
   ]
  },
  {
   "cell_type": "code",
   "execution_count": 3,
   "id": "ac05962e-80d8-45ca-beac-5cbaf2ece184",
   "metadata": {},
   "outputs": [
    {
     "name": "stdout",
     "output_type": "stream",
     "text": [
      "<class 'pandas.core.frame.DataFrame'>\n",
      "RangeIndex: 9994 entries, 1 to 9994\n",
      "Data columns (total 22 columns):\n",
      " #   Column         Non-Null Count  Dtype  \n",
      "---  ------         --------------  -----  \n",
      " 0   Row ID         9994 non-null   int64  \n",
      " 1   Order ID       9994 non-null   object \n",
      " 2   Unnamed: 2     0 non-null      float64\n",
      " 3   Order Date     9994 non-null   object \n",
      " 4   Ship Date      9994 non-null   object \n",
      " 5   Ship Mode      9994 non-null   object \n",
      " 6   Customer ID    9994 non-null   object \n",
      " 7   Customer Name  9994 non-null   object \n",
      " 8   Segment        9994 non-null   object \n",
      " 9   Country        9994 non-null   object \n",
      " 10  City           9994 non-null   object \n",
      " 11  State          9994 non-null   object \n",
      " 12  Postal Code    9994 non-null   int64  \n",
      " 13  Region         9994 non-null   object \n",
      " 14  Product ID     9994 non-null   object \n",
      " 15  Category       9994 non-null   object \n",
      " 16  Sub-Category   9994 non-null   object \n",
      " 17  Product Name   9994 non-null   object \n",
      " 18  Sales          9994 non-null   float64\n",
      " 19  Quantity       9994 non-null   int64  \n",
      " 20  Discount       9994 non-null   float64\n",
      " 21  Profit         9994 non-null   float64\n",
      "dtypes: float64(4), int64(3), object(15)\n",
      "memory usage: 1.7+ MB\n"
     ]
    }
   ],
   "source": [
    "df.info()"
   ]
  },
  {
   "cell_type": "markdown",
   "id": "94df180b-af04-4df2-80d5-e151a7c803a9",
   "metadata": {},
   "source": [
    "<h4><b> Profit & Quantity KPIs</b></h4>"
   ]
  },
  {
   "cell_type": "markdown",
   "id": "bdc46aa3-8121-4fd4-bad7-8a2a4f6cf4df",
   "metadata": {},
   "source": [
    "<b>1)Total Profit Earned Till Now </b>"
   ]
  },
  {
   "cell_type": "code",
   "execution_count": 4,
   "id": "ec998524-e1ad-460c-b626-19a3820330f4",
   "metadata": {},
   "outputs": [
    {
     "data": {
      "text/plain": [
       "286397.0217"
      ]
     },
     "execution_count": 4,
     "metadata": {},
     "output_type": "execute_result"
    }
   ],
   "source": [
    "total_profit=df['Profit'].sum()\n",
    "total_profit"
   ]
  },
  {
   "cell_type": "markdown",
   "id": "d5919d97-880c-4ccd-bbec-2c7f15836b25",
   "metadata": {},
   "source": [
    "<b>2)Total Quantity Sold Till Now </b>"
   ]
  },
  {
   "cell_type": "code",
   "execution_count": 5,
   "id": "85f1e2b5-901e-473c-8b41-e74ca76f7e48",
   "metadata": {},
   "outputs": [
    {
     "data": {
      "text/plain": [
       "37873"
      ]
     },
     "execution_count": 5,
     "metadata": {},
     "output_type": "execute_result"
    }
   ],
   "source": [
    "total_quantity_sold=df['Quantity'].sum()\n",
    "total_quantity_sold"
   ]
  },
  {
   "cell_type": "markdown",
   "id": "f9f96217-8b40-4b05-97c9-57a9111ba50b",
   "metadata": {},
   "source": [
    "<h4><b>Time-Based Profit Analysis</b></h>"
   ]
  },
  {
   "cell_type": "markdown",
   "id": "ba5a304f-cda1-449f-a7ef-6960483460d5",
   "metadata": {},
   "source": [
    "<b>3)Profit Month-Wise</b>"
   ]
  },
  {
   "cell_type": "code",
   "execution_count": 6,
   "id": "94f07401-cffa-4180-aa5b-6b3a5f07863f",
   "metadata": {},
   "outputs": [
    {
     "data": {
      "text/plain": [
       "Order Date\n",
       "2014-01-31     2450.1907\n",
       "2014-02-28      862.3084\n",
       "2014-03-31      498.7299\n",
       "2014-04-30     3488.8352\n",
       "2014-05-31     2738.7096\n",
       "2014-06-30     4976.5244\n",
       "2014-07-31     -841.4826\n",
       "2014-08-31     5318.1050\n",
       "2014-09-30     8328.0994\n",
       "2014-10-31     3448.2573\n",
       "2014-11-30     9292.1269\n",
       "2014-12-31     8983.5699\n",
       "2015-01-31    -3281.0070\n",
       "2015-02-28     2813.8508\n",
       "2015-03-31     9732.0978\n",
       "2015-04-30     4187.4962\n",
       "2015-05-31     4667.8690\n",
       "2015-06-30     3335.5572\n",
       "2015-07-31     3288.6483\n",
       "2015-08-31     5355.8084\n",
       "2015-09-30     8209.1627\n",
       "2015-10-31     2817.3660\n",
       "2015-11-30    12474.7884\n",
       "2015-12-31     8016.9659\n",
       "2016-01-31     2824.8233\n",
       "2016-02-29     5004.5795\n",
       "2016-03-31     3611.9680\n",
       "2016-04-30     2977.8149\n",
       "2016-05-31     8662.1464\n",
       "2016-06-30     4750.3781\n",
       "2016-07-31     4432.8779\n",
       "2016-08-31     2062.0693\n",
       "2016-09-30     9328.6576\n",
       "2016-10-31    16243.1425\n",
       "2016-11-30     4011.4075\n",
       "2016-12-31    17885.3093\n",
       "2017-01-31     7140.4391\n",
       "2017-02-28     1613.8720\n",
       "2017-03-31    14751.8915\n",
       "2017-04-30      933.2900\n",
       "2017-05-31     6342.5828\n",
       "2017-06-30     8223.3357\n",
       "2017-07-31     6952.6212\n",
       "2017-08-31     9040.9557\n",
       "2017-09-30    10991.5556\n",
       "2017-10-31     9275.2755\n",
       "2017-11-30     9690.1037\n",
       "2017-12-31     8483.3468\n",
       "Freq: ME, Name: Profit, dtype: float64"
      ]
     },
     "execution_count": 6,
     "metadata": {},
     "output_type": "execute_result"
    }
   ],
   "source": [
    "df['Order Date']=pd.to_datetime(df['Order Date'])\n",
    "df.set_index('Order Date',inplace=True)\n",
    "monthwise_profit=df['Profit'].resample('ME').sum()\n",
    "monthwise_profit"
   ]
  },
  {
   "cell_type": "markdown",
   "id": "4bd4fe6c-67d7-4750-9ba6-803b4489ee23",
   "metadata": {},
   "source": [
    "<b>4)Profit (15-Day Interval)</b>"
   ]
  },
  {
   "cell_type": "code",
   "execution_count": 7,
   "id": "7a6671af-51d4-44fa-ae14-dbcfe941ff6b",
   "metadata": {},
   "outputs": [
    {
     "data": {
      "text/plain": [
       "Order Date\n",
       "2014-01-03    1947.5860\n",
       "2014-01-18     708.9207\n",
       "2014-02-02     612.1839\n",
       "2014-02-17    -738.9406\n",
       "2014-03-04    -496.2993\n",
       "                ...    \n",
       "2017-10-29    1266.2501\n",
       "2017-11-13    8561.0827\n",
       "2017-11-28    2455.3228\n",
       "2017-12-13    5475.2073\n",
       "2017-12-28     999.0891\n",
       "Freq: 15D, Name: Profit, Length: 98, dtype: float64"
      ]
     },
     "execution_count": 7,
     "metadata": {},
     "output_type": "execute_result"
    }
   ],
   "source": [
    "fifteendayswise_profit=df['Profit'].resample('15D').sum()\n",
    "fifteendayswise_profit"
   ]
  },
  {
   "cell_type": "markdown",
   "id": "9da96303-a5c3-4d3b-be08-5a182bf4067a",
   "metadata": {},
   "source": [
    "<b>5)Profit Quater Wise</b>"
   ]
  },
  {
   "cell_type": "code",
   "execution_count": 8,
   "id": "f19f0b2e-d24d-47a8-95fb-8d415dd71184",
   "metadata": {},
   "outputs": [
    {
     "data": {
      "text/plain": [
       "Order Date\n",
       "2014-03-31     3811.2290\n",
       "2014-06-30    11204.0692\n",
       "2014-09-30    12804.7218\n",
       "2014-12-31    21723.9541\n",
       "2015-03-31     9264.9416\n",
       "2015-06-30    12190.9224\n",
       "2015-09-30    16853.6194\n",
       "2015-12-31    23309.1203\n",
       "2016-03-31    11441.3708\n",
       "2016-06-30    16390.3394\n",
       "2016-09-30    15823.6048\n",
       "2016-12-31    38139.8593\n",
       "2017-03-31    23506.2026\n",
       "2017-06-30    15499.2085\n",
       "2017-09-30    26985.1325\n",
       "2017-12-31    27448.7260\n",
       "Freq: QE-DEC, Name: Profit, dtype: float64"
      ]
     },
     "execution_count": 8,
     "metadata": {},
     "output_type": "execute_result"
    }
   ],
   "source": [
    "quaterwise_profit=df['Profit'].resample('QE').sum()\n",
    "quaterwise_profit"
   ]
  },
  {
   "cell_type": "markdown",
   "id": "86331e90-961b-41ca-8a58-c084f19f76b4",
   "metadata": {},
   "source": [
    "<b>6)Profit Day Wise</b>"
   ]
  },
  {
   "cell_type": "code",
   "execution_count": 9,
   "id": "1b0d9ca3-621b-47cc-a9bd-4c9df239984b",
   "metadata": {},
   "outputs": [
    {
     "data": {
      "text/plain": [
       "Order Date\n",
       "2014-01-03       5.5512\n",
       "2014-01-04     -65.9901\n",
       "2014-01-05       4.8840\n",
       "2014-01-06    1358.0524\n",
       "2014-01-07     -71.9621\n",
       "                ...    \n",
       "2017-12-26      61.1202\n",
       "2017-12-27     -31.9742\n",
       "2017-12-28     253.1188\n",
       "2017-12-29     644.4338\n",
       "2017-12-30     101.5365\n",
       "Freq: D, Name: Profit, Length: 1458, dtype: float64"
      ]
     },
     "execution_count": 9,
     "metadata": {},
     "output_type": "execute_result"
    }
   ],
   "source": [
    "daywise_profit=df['Profit'].resample('D').sum()\n",
    "daywise_profit"
   ]
  },
  {
   "cell_type": "markdown",
   "id": "27d280ff-cee3-406a-884e-0bdcc48083cf",
   "metadata": {},
   "source": [
    "<b>7)Profit Year Wise</b>"
   ]
  },
  {
   "cell_type": "code",
   "execution_count": 87,
   "id": "2f98eaa2-3ad0-45ce-83fb-8847b1557dd5",
   "metadata": {},
   "outputs": [
    {
     "data": {
      "text/plain": [
       "Order Date\n",
       "2014-12-31    49543.9741\n",
       "2015-12-31    61618.6037\n",
       "2016-12-31    81795.1743\n",
       "2017-12-31    93439.2696\n",
       "Freq: YE-DEC, Name: Profit, dtype: float64"
      ]
     },
     "execution_count": 87,
     "metadata": {},
     "output_type": "execute_result"
    }
   ],
   "source": [
    "yearwise_profit=df['Profit'].resample('YE').sum()\n",
    "yearwise_profit"
   ]
  },
  {
   "cell_type": "markdown",
   "id": "1789c652-b385-438b-9996-10f4893c79bf",
   "metadata": {},
   "source": [
    "<h4><b> Time-Based Quantity Analysis</b></h4>"
   ]
  },
  {
   "cell_type": "markdown",
   "id": "4806e8cb-efac-4fb8-b5c1-78e772fd94a0",
   "metadata": {},
   "source": [
    "<b>78)Quantity Sold Month Wise</b>"
   ]
  },
  {
   "cell_type": "code",
   "execution_count": 88,
   "id": "ae383904-33f2-46af-a436-c2c70f6769c9",
   "metadata": {},
   "outputs": [
    {
     "data": {
      "text/plain": [
       "Order Date\n",
       "2014-03-31    1028\n",
       "2014-06-30    1523\n",
       "2014-09-30    2159\n",
       "2014-12-31    2871\n",
       "2015-03-31     990\n",
       "2015-06-30    1604\n",
       "2015-09-30    2241\n",
       "2015-12-31    3144\n",
       "2016-03-31    1243\n",
       "2016-06-30    2240\n",
       "2016-09-30    2767\n",
       "2016-12-31    3587\n",
       "2017-03-31    1845\n",
       "2017-06-30    2551\n",
       "2017-09-30    3384\n",
       "2017-12-31    4696\n",
       "Freq: QE-DEC, Name: Quantity, dtype: int64"
      ]
     },
     "execution_count": 88,
     "metadata": {},
     "output_type": "execute_result"
    }
   ],
   "source": [
    "quaterwise_sold_quantity=df['Quantity'].resample('QE').sum()\n",
    "quaterwise_sold_quantity"
   ]
  },
  {
   "cell_type": "markdown",
   "id": "6e25ff91-d10c-4bbe-bdab-209a99b4d501",
   "metadata": {},
   "source": [
    "<b>9)Quantity Sold (15-Day Interval)</b>"
   ]
  },
  {
   "cell_type": "code",
   "execution_count": 89,
   "id": "c310f935-188c-4f53-812b-c61dc0f44b92",
   "metadata": {},
   "outputs": [
    {
     "data": {
      "text/plain": [
       "Order Date\n",
       "2014-01-03     133\n",
       "2014-01-18     157\n",
       "2014-02-02      98\n",
       "2014-02-17     141\n",
       "2014-03-04     283\n",
       "              ... \n",
       "2017-10-29     861\n",
       "2017-11-13     956\n",
       "2017-11-28    1046\n",
       "2017-12-13     681\n",
       "2017-12-28     128\n",
       "Freq: 15D, Name: Quantity, Length: 98, dtype: int64"
      ]
     },
     "execution_count": 89,
     "metadata": {},
     "output_type": "execute_result"
    }
   ],
   "source": [
    "fifteendaywise_quantity_sold=df['Quantity'].resample('15D').sum()\n",
    "fifteendaywise_quantity_sold"
   ]
  },
  {
   "cell_type": "markdown",
   "id": "79407143-2c09-410d-9d48-a3c8b2948a49",
   "metadata": {},
   "source": [
    "<b>10)Quantity Sold Quarter-Wise</b>"
   ]
  },
  {
   "cell_type": "code",
   "execution_count": 90,
   "id": "c0d87192-8c99-4241-b1bd-6179fc3647ef",
   "metadata": {},
   "outputs": [
    {
     "data": {
      "text/plain": [
       "Order Date\n",
       "2014-03-31    1028\n",
       "2014-06-30    1523\n",
       "2014-09-30    2159\n",
       "2014-12-31    2871\n",
       "2015-03-31     990\n",
       "2015-06-30    1604\n",
       "2015-09-30    2241\n",
       "2015-12-31    3144\n",
       "2016-03-31    1243\n",
       "2016-06-30    2240\n",
       "2016-09-30    2767\n",
       "2016-12-31    3587\n",
       "2017-03-31    1845\n",
       "2017-06-30    2551\n",
       "2017-09-30    3384\n",
       "2017-12-31    4696\n",
       "Freq: QE-DEC, Name: Quantity, dtype: int64"
      ]
     },
     "execution_count": 90,
     "metadata": {},
     "output_type": "execute_result"
    }
   ],
   "source": [
    "quaterwise_quantity_sold=df['Quantity'].resample('QE').sum()\n",
    "quaterwise_quantity_sold"
   ]
  },
  {
   "cell_type": "markdown",
   "id": "bd41072e-830f-4f78-899a-ac64c669ef46",
   "metadata": {},
   "source": [
    "<B>11)Qunatity Sold Day Wise</b>"
   ]
  },
  {
   "cell_type": "code",
   "execution_count": 91,
   "id": "87017307-729c-471d-83e5-9a6b272bc469",
   "metadata": {},
   "outputs": [
    {
     "data": {
      "text/plain": [
       "Order Date\n",
       "2014-01-03     2\n",
       "2014-01-04     8\n",
       "2014-01-05     3\n",
       "2014-01-06    30\n",
       "2014-01-07    10\n",
       "              ..\n",
       "2017-12-26    12\n",
       "2017-12-27     6\n",
       "2017-12-28    64\n",
       "2017-12-29    41\n",
       "2017-12-30    23\n",
       "Freq: D, Name: Quantity, Length: 1458, dtype: int64"
      ]
     },
     "execution_count": 91,
     "metadata": {},
     "output_type": "execute_result"
    }
   ],
   "source": [
    "daywise_quantity_sold=df['Quantity'].resample('D').sum()\n",
    "daywise_quantity_sold"
   ]
  },
  {
   "cell_type": "markdown",
   "id": "ca125b7c-989b-482a-8006-bfea8595b1a6",
   "metadata": {},
   "source": [
    "<b>12)Quantity Sold Year Wise</b>"
   ]
  },
  {
   "cell_type": "code",
   "execution_count": 92,
   "id": "1ae4e526-5cc9-4bc3-8b8f-f78983975d7f",
   "metadata": {},
   "outputs": [
    {
     "data": {
      "text/plain": [
       "Order Date\n",
       "2014-12-31     7581\n",
       "2015-12-31     7979\n",
       "2016-12-31     9837\n",
       "2017-12-31    12476\n",
       "Freq: YE-DEC, Name: Quantity, dtype: int64"
      ]
     },
     "execution_count": 92,
     "metadata": {},
     "output_type": "execute_result"
    }
   ],
   "source": [
    "yearwise_quantity_sold=df['Quantity'].resample('YE').sum()\n",
    "yearwise_quantity_sold"
   ]
  },
  {
   "cell_type": "markdown",
   "id": "ebbe4595-d51e-4ed4-af04-3fdd253df202",
   "metadata": {},
   "source": [
    "<b><h4>Category-Level Performance</h4></b>"
   ]
  },
  {
   "cell_type": "markdown",
   "id": "3aae95bc-f241-4dc7-a75c-076e4effbd96",
   "metadata": {},
   "source": [
    "<b>13)Category-Wise Total Selling</b>"
   ]
  },
  {
   "cell_type": "code",
   "execution_count": 93,
   "id": "288b556d-bdb5-40b2-836f-10da1684b4c2",
   "metadata": {},
   "outputs": [
    {
     "data": {
      "text/plain": [
       "Category\n",
       "Furniture          741999.7953\n",
       "Office Supplies    719047.0320\n",
       "Technology         836154.0330\n",
       "Name: Sales, dtype: float64"
      ]
     },
     "execution_count": 93,
     "metadata": {},
     "output_type": "execute_result"
    }
   ],
   "source": [
    "categorywise_selling=df.groupby('Category')['Sales'].sum()\n",
    "categorywise_selling"
   ]
  },
  {
   "cell_type": "markdown",
   "id": "7deea5b0-9d20-48a2-b514-58c0859a5350",
   "metadata": {},
   "source": [
    "<b>14)Category Most Selling Month-Wise</b>"
   ]
  },
  {
   "cell_type": "code",
   "execution_count": 94,
   "id": "cb7777c1-8110-472f-b0f1-0504de325f5e",
   "metadata": {},
   "outputs": [
    {
     "data": {
      "text/plain": [
       "Category    Order Date\n",
       "Furniture   2014-01-31     6242.525\n",
       "            2014-02-28     1839.658\n",
       "            2014-03-31    14573.956\n",
       "            2014-04-30     7944.837\n",
       "            2014-05-31     6912.787\n",
       "                            ...    \n",
       "Technology  2017-08-31    17619.162\n",
       "            2017-09-30    26942.603\n",
       "            2017-10-31    32855.663\n",
       "            2017-11-30    49918.773\n",
       "            2017-12-31    21984.910\n",
       "Name: Sales, Length: 144, dtype: float64"
      ]
     },
     "execution_count": 94,
     "metadata": {},
     "output_type": "execute_result"
    }
   ],
   "source": [
    "categorywise_and_monthwise_selling=df.groupby(['Category']).resample('ME')['Sales'].sum()\n",
    "categorywise_and_monthwise_selling"
   ]
  },
  {
   "cell_type": "markdown",
   "id": "2bc10e23-9841-45f0-9ecc-c20236b72007",
   "metadata": {},
   "source": [
    "<b>15)Category Most Selling Quarter-Wise</b>"
   ]
  },
  {
   "cell_type": "code",
   "execution_count": 95,
   "id": "eb8fbb1f-a8f7-402c-9535-991c96f3a560",
   "metadata": {},
   "outputs": [
    {
     "data": {
      "text/plain": [
       "Category         Order Date\n",
       "Furniture        2014-03-31     22656.1390\n",
       "                 2014-06-30     28063.7496\n",
       "                 2014-09-30     41957.8783\n",
       "                 2014-12-31     64515.0862\n",
       "                 2015-03-31     27374.0986\n",
       "                 2015-06-30     27564.8280\n",
       "                 2015-09-30     49586.0352\n",
       "                 2015-12-31     65993.2752\n",
       "                 2016-03-31     24349.3860\n",
       "                 2016-06-30     41402.4970\n",
       "                 2016-09-30     52814.6322\n",
       "                 2016-12-31     80334.9208\n",
       "                 2017-03-31     23723.8142\n",
       "                 2017-06-30     45032.1030\n",
       "                 2017-09-30     56283.1020\n",
       "                 2017-12-31     90348.2500\n",
       "Office Supplies  2014-03-31     14528.6830\n",
       "                 2014-06-30     31243.7350\n",
       "                 2014-09-30     53923.9680\n",
       "                 2014-12-31     52080.0260\n",
       "                 2015-03-31     23059.3940\n",
       "                 2015-06-30     32320.0410\n",
       "                 2015-09-30     35760.8140\n",
       "                 2015-12-31     46093.2140\n",
       "                 2016-03-31     29440.9630\n",
       "                 2016-06-30     34584.4590\n",
       "                 2016-09-30     45147.9220\n",
       "                 2016-12-31     74766.6380\n",
       "                 2017-03-31     43232.3470\n",
       "                 2017-06-30     45721.1940\n",
       "                 2017-09-30     72197.1630\n",
       "                 2017-12-31     84946.4710\n",
       "Technology       2014-03-31     37262.9740\n",
       "                 2014-06-30     27231.2750\n",
       "                 2014-09-30     47751.3660\n",
       "                 2014-12-31     63032.6180\n",
       "                 2015-03-31     18418.2460\n",
       "                 2015-06-30     29239.3180\n",
       "                 2015-09-30     44912.7260\n",
       "                 2015-12-31     70210.5190\n",
       "                 2016-03-31     39446.8320\n",
       "                 2016-06-30     60095.3450\n",
       "                 2016-09-30     45824.8080\n",
       "                 2016-12-31     80997.1950\n",
       "                 2017-03-31     56188.6990\n",
       "                 2017-06-30     43011.0750\n",
       "                 2017-09-30     67771.6910\n",
       "                 2017-12-31    104759.3460\n",
       "Name: Sales, dtype: float64"
      ]
     },
     "execution_count": 95,
     "metadata": {},
     "output_type": "execute_result"
    }
   ],
   "source": [
    "categorywise_and_quaterwise_selling=df.groupby(['Category']).resample('QE')['Sales'].sum()\n",
    "categorywise_and_quaterwise_selling"
   ]
  },
  {
   "cell_type": "markdown",
   "id": "e7fd123e-fb50-4141-9a77-80b939c6340a",
   "metadata": {},
   "source": [
    "<b>16)Category Most Selling (15-Day Interval)</b>"
   ]
  },
  {
   "cell_type": "code",
   "execution_count": 96,
   "id": "14b309ed-bf89-42db-b97a-9a7781c95481",
   "metadata": {},
   "outputs": [
    {
     "data": {
      "text/plain": [
       "Category    Order Date\n",
       "Furniture   2014-01-06     5376.411\n",
       "            2014-01-21      866.114\n",
       "            2014-02-05     1819.338\n",
       "            2014-02-20     2843.117\n",
       "            2014-03-07     7164.936\n",
       "                            ...    \n",
       "Technology  2017-10-17    19202.508\n",
       "            2017-11-01    23486.849\n",
       "            2017-11-16    26431.924\n",
       "            2017-12-01    14810.324\n",
       "            2017-12-16     7174.586\n",
       "Name: Sales, Length: 292, dtype: float64"
      ]
     },
     "execution_count": 96,
     "metadata": {},
     "output_type": "execute_result"
    }
   ],
   "source": [
    "categorywise_and_fifteendayswise_selling=df.groupby(['Category']).resample('15D')['Sales'].sum()\n",
    "categorywise_and_fifteendayswise_selling"
   ]
  },
  {
   "cell_type": "markdown",
   "id": "add4318b-8a9f-4ab0-bf29-a98d5058612d",
   "metadata": {},
   "source": [
    "<b>17)Category Most Selling (Yearly)</b>"
   ]
  },
  {
   "cell_type": "code",
   "execution_count": 97,
   "id": "6ff3c3d4-b18c-4d73-8163-c6e65fbf33d5",
   "metadata": {},
   "outputs": [
    {
     "data": {
      "text/plain": [
       "Category         Order Date\n",
       "Furniture        2014-12-31    157192.8531\n",
       "                 2015-12-31    170518.2370\n",
       "                 2016-12-31    198901.4360\n",
       "                 2017-12-31    215387.2692\n",
       "Office Supplies  2014-12-31    151776.4120\n",
       "                 2015-12-31    137233.4630\n",
       "                 2016-12-31    183939.9820\n",
       "                 2017-12-31    246097.1750\n",
       "Technology       2014-12-31    175278.2330\n",
       "                 2015-12-31    162780.8090\n",
       "                 2016-12-31    226364.1800\n",
       "                 2017-12-31    271730.8110\n",
       "Name: Sales, dtype: float64"
      ]
     },
     "execution_count": 97,
     "metadata": {},
     "output_type": "execute_result"
    }
   ],
   "source": [
    "categorywise_and_yearly_selling=df.groupby(['Category']).resample('YE')['Sales'].sum()\n",
    "categorywise_and_yearly_selling"
   ]
  },
  {
   "cell_type": "markdown",
   "id": "e565a549-fad3-410b-b193-e80aa319b7f3",
   "metadata": {},
   "source": [
    "<b>18) Most Selling Category (All-Time)</b>"
   ]
  },
  {
   "cell_type": "code",
   "execution_count": 98,
   "id": "ef16c3eb-9104-42e5-a97d-697a6e5a1b61",
   "metadata": {},
   "outputs": [
    {
     "data": {
      "text/plain": [
       "Category\n",
       "Technology         836154.0330\n",
       "Furniture          741999.7953\n",
       "Office Supplies    719047.0320\n",
       "Name: Sales, dtype: float64"
      ]
     },
     "execution_count": 98,
     "metadata": {},
     "output_type": "execute_result"
    }
   ],
   "source": [
    "categorywise_mostselling=df.groupby('Category')['Sales'].sum().sort_values(ascending=False)\n",
    "categorywise_mostselling"
   ]
  },
  {
   "cell_type": "markdown",
   "id": "53026fbb-961b-49b9-b20a-20f5bb34cad1",
   "metadata": {},
   "source": [
    "<b>19)Most Quantity Sold Category(All-Time)</b>"
   ]
  },
  {
   "cell_type": "code",
   "execution_count": 99,
   "id": "809e8230-5bc4-4944-8419-4fae87e582d1",
   "metadata": {},
   "outputs": [
    {
     "data": {
      "text/plain": [
       "Category\n",
       "Office Supplies    22906\n",
       "Furniture           8028\n",
       "Technology          6939\n",
       "Name: Quantity, dtype: int64"
      ]
     },
     "execution_count": 99,
     "metadata": {},
     "output_type": "execute_result"
    }
   ],
   "source": [
    "categorywise_quantity_sold=df.groupby('Category')['Quantity'].sum().sort_values(ascending=False)\n",
    "categorywise_quantity_sold"
   ]
  },
  {
   "cell_type": "markdown",
   "id": "872cbd70-8747-4211-8eda-962f7b97555d",
   "metadata": {},
   "source": [
    "<h4><b>Location-Based Insights</b></h4>"
   ]
  },
  {
   "cell_type": "markdown",
   "id": "a5810156-b200-4a0c-9490-17c2d013cd7f",
   "metadata": {},
   "source": [
    "<b>20)Which Location Has Most Sales (and Category Check)</b>"
   ]
  },
  {
   "cell_type": "code",
   "execution_count": 100,
   "id": "518ad115-def9-4243-a00d-6f1c12c018c1",
   "metadata": {},
   "outputs": [
    {
     "data": {
      "text/plain": [
       "State          Category       \n",
       "Alabama        Furniture           6332.480\n",
       "               Office Supplies     4209.080\n",
       "               Technology          8969.080\n",
       "Arizona        Furniture          13525.291\n",
       "               Office Supplies    10005.825\n",
       "                                    ...    \n",
       "West Virginia  Office Supplies      536.480\n",
       "Wisconsin      Furniture          17256.610\n",
       "               Office Supplies     6059.840\n",
       "               Technology          8798.160\n",
       "Wyoming        Furniture           1603.136\n",
       "Name: Sales, Length: 142, dtype: float64"
      ]
     },
     "execution_count": 100,
     "metadata": {},
     "output_type": "execute_result"
    }
   ],
   "source": [
    "locationwise_and_categorywise_sales=df.groupby(['State','Category'])['Sales'].sum()\n",
    "locationwise_and_categorywise_sales"
   ]
  },
  {
   "cell_type": "markdown",
   "id": "94419d44-0892-4d66-855c-f154c63298c3",
   "metadata": {},
   "source": [
    "<h4><b> Customer-Level Insights</b></h4>"
   ]
  },
  {
   "cell_type": "markdown",
   "id": "94a29471-4e6c-4136-a895-b923aab782a8",
   "metadata": {},
   "source": [
    "<b>21)Customer Who Purchased Most Items (by Count)</b>"
   ]
  },
  {
   "cell_type": "code",
   "execution_count": 101,
   "id": "c59b4d0f-e707-427f-92dd-000e7121d35d",
   "metadata": {},
   "outputs": [
    {
     "data": {
      "text/plain": [
       "Customer Name\n",
       "Aaron Bergman          6\n",
       "Aaron Hawkins         11\n",
       "Aaron Smayling        10\n",
       "Adam Bellavance       18\n",
       "Adam Hart             20\n",
       "                      ..\n",
       "Xylona Preis          28\n",
       "Yana Sorensen         12\n",
       "Yoseph Carroll         8\n",
       "Zuschuss Carroll      31\n",
       "Zuschuss Donatelli     9\n",
       "Name: Quantity, Length: 793, dtype: int64"
      ]
     },
     "execution_count": 101,
     "metadata": {},
     "output_type": "execute_result"
    }
   ],
   "source": [
    "mostitem_purchase_bycustomer=df.groupby('Customer Name')['Quantity'].count()\n",
    "mostitem_purchase_bycustomer"
   ]
  },
  {
   "cell_type": "markdown",
   "id": "3442e08a-1dd0-4e3f-bf6b-180f9ec1f3b9",
   "metadata": {},
   "source": [
    "<B>22)Customer with Highest Revenue (by Sales ₹)</b>"
   ]
  },
  {
   "cell_type": "code",
   "execution_count": 102,
   "id": "4bb7a1c8-844b-4459-8fda-986ca0fb5fbe",
   "metadata": {},
   "outputs": [
    {
     "data": {
      "text/plain": [
       "Customer Name\n",
       "Sean Miller        25043.050\n",
       "Tamara Chand       19052.218\n",
       "Raymond Buch       15117.339\n",
       "Tom Ashbrook       14595.620\n",
       "Adrian Barton      14473.571\n",
       "                     ...    \n",
       "Roy Skaria            22.328\n",
       "Mitch Gastineau       16.739\n",
       "Carl Jackson          16.520\n",
       "Lela Donovan           5.304\n",
       "Thais Sissman          4.833\n",
       "Name: Sales, Length: 793, dtype: float64"
      ]
     },
     "execution_count": 102,
     "metadata": {},
     "output_type": "execute_result"
    }
   ],
   "source": [
    "customer_generated_revenue=df.groupby('Customer Name')['Sales'].sum().sort_values(ascending=False)\n",
    "customer_generated_revenue"
   ]
  },
  {
   "cell_type": "markdown",
   "id": "ed1ed566-7d75-418b-b343-2dc5f61332ba",
   "metadata": {},
   "source": [
    "<b>23)How many unique customers made purchases each month?</b>"
   ]
  },
  {
   "cell_type": "code",
   "execution_count": 103,
   "id": "6d91afc6-71fe-47ef-81aa-29a6c7a934dc",
   "metadata": {},
   "outputs": [
    {
     "data": {
      "text/plain": [
       "Order Date\n",
       "2014-01-31     32\n",
       "2014-02-28     27\n",
       "2014-03-31     69\n",
       "2014-04-30     64\n",
       "2014-05-31     67\n",
       "2014-06-30     63\n",
       "2014-07-31     65\n",
       "2014-08-31     70\n",
       "2014-09-30    118\n",
       "2014-10-31     75\n",
       "2014-11-30    139\n",
       "2014-12-31    134\n",
       "2015-01-31     28\n",
       "2015-02-28     36\n",
       "2015-03-31     77\n",
       "2015-04-30     69\n",
       "2015-05-31     69\n",
       "2015-06-30     68\n",
       "2015-07-31     64\n",
       "2015-08-31     64\n",
       "2015-09-30    126\n",
       "2015-10-31     79\n",
       "2015-11-30    146\n",
       "2015-12-31    141\n",
       "2016-01-31     46\n",
       "2016-02-29     42\n",
       "2016-03-31     80\n",
       "2016-04-30     83\n",
       "2016-05-31     96\n",
       "2016-06-30     90\n",
       "2016-07-31     89\n",
       "2016-08-31     86\n",
       "2016-09-30    176\n",
       "2016-10-31     95\n",
       "2016-11-30    165\n",
       "2016-12-31    157\n",
       "2017-01-31     67\n",
       "2017-02-28     53\n",
       "2017-03-31    115\n",
       "2017-04-30    109\n",
       "2017-05-31    113\n",
       "2017-06-30    118\n",
       "2017-07-31    102\n",
       "2017-08-31    104\n",
       "2017-09-30    196\n",
       "2017-10-31    136\n",
       "2017-11-30    216\n",
       "2017-12-31    195\n",
       "Freq: ME, Name: Customer Name, dtype: int64"
      ]
     },
     "execution_count": 103,
     "metadata": {},
     "output_type": "execute_result"
    }
   ],
   "source": [
    "monthwise_totalproduct_purchase=df['Customer Name'].resample('ME').nunique()\n",
    "monthwise_totalproduct_purchase"
   ]
  },
  {
   "cell_type": "markdown",
   "id": "bc041e67-906e-44fa-861c-d816ac384c8c",
   "metadata": {},
   "source": [
    "<b>24)What are the total quantity and profit for each customer on a monthly basis?</b>"
   ]
  },
  {
   "cell_type": "code",
   "execution_count": 104,
   "id": "4472e7e0-48a0-4758-8839-ea4978112429",
   "metadata": {},
   "outputs": [
    {
     "data": {
      "text/html": [
       "<div>\n",
       "<style scoped>\n",
       "    .dataframe tbody tr th:only-of-type {\n",
       "        vertical-align: middle;\n",
       "    }\n",
       "\n",
       "    .dataframe tbody tr th {\n",
       "        vertical-align: top;\n",
       "    }\n",
       "\n",
       "    .dataframe thead th {\n",
       "        text-align: right;\n",
       "    }\n",
       "</style>\n",
       "<table border=\"1\" class=\"dataframe\">\n",
       "  <thead>\n",
       "    <tr style=\"text-align: right;\">\n",
       "      <th></th>\n",
       "      <th></th>\n",
       "      <th>Quantity</th>\n",
       "      <th>Profit</th>\n",
       "    </tr>\n",
       "    <tr>\n",
       "      <th>Customer Name</th>\n",
       "      <th>Order Date</th>\n",
       "      <th></th>\n",
       "      <th></th>\n",
       "    </tr>\n",
       "  </thead>\n",
       "  <tbody>\n",
       "    <tr>\n",
       "      <th rowspan=\"5\" valign=\"top\">Aaron Bergman</th>\n",
       "      <th>2014-02-28</th>\n",
       "      <td>2</td>\n",
       "      <td>-2.5248</td>\n",
       "    </tr>\n",
       "    <tr>\n",
       "      <th>2014-03-31</th>\n",
       "      <td>7</td>\n",
       "      <td>15.0033</td>\n",
       "    </tr>\n",
       "    <tr>\n",
       "      <th>2014-04-30</th>\n",
       "      <td>0</td>\n",
       "      <td>0.0000</td>\n",
       "    </tr>\n",
       "    <tr>\n",
       "      <th>2014-05-31</th>\n",
       "      <td>0</td>\n",
       "      <td>0.0000</td>\n",
       "    </tr>\n",
       "    <tr>\n",
       "      <th>2014-06-30</th>\n",
       "      <td>0</td>\n",
       "      <td>0.0000</td>\n",
       "    </tr>\n",
       "    <tr>\n",
       "      <th>...</th>\n",
       "      <th>...</th>\n",
       "      <td>...</td>\n",
       "      <td>...</td>\n",
       "    </tr>\n",
       "    <tr>\n",
       "      <th rowspan=\"5\" valign=\"top\">Zuschuss Donatelli</th>\n",
       "      <th>2017-02-28</th>\n",
       "      <td>0</td>\n",
       "      <td>0.0000</td>\n",
       "    </tr>\n",
       "    <tr>\n",
       "      <th>2017-03-31</th>\n",
       "      <td>0</td>\n",
       "      <td>0.0000</td>\n",
       "    </tr>\n",
       "    <tr>\n",
       "      <th>2017-04-30</th>\n",
       "      <td>0</td>\n",
       "      <td>0.0000</td>\n",
       "    </tr>\n",
       "    <tr>\n",
       "      <th>2017-05-31</th>\n",
       "      <td>0</td>\n",
       "      <td>0.0000</td>\n",
       "    </tr>\n",
       "    <tr>\n",
       "      <th>2017-06-30</th>\n",
       "      <td>3</td>\n",
       "      <td>16.5888</td>\n",
       "    </tr>\n",
       "  </tbody>\n",
       "</table>\n",
       "<p>26818 rows × 2 columns</p>\n",
       "</div>"
      ],
      "text/plain": [
       "                               Quantity   Profit\n",
       "Customer Name      Order Date                   \n",
       "Aaron Bergman      2014-02-28         2  -2.5248\n",
       "                   2014-03-31         7  15.0033\n",
       "                   2014-04-30         0   0.0000\n",
       "                   2014-05-31         0   0.0000\n",
       "                   2014-06-30         0   0.0000\n",
       "...                                 ...      ...\n",
       "Zuschuss Donatelli 2017-02-28         0   0.0000\n",
       "                   2017-03-31         0   0.0000\n",
       "                   2017-04-30         0   0.0000\n",
       "                   2017-05-31         0   0.0000\n",
       "                   2017-06-30         3  16.5888\n",
       "\n",
       "[26818 rows x 2 columns]"
      ]
     },
     "execution_count": 104,
     "metadata": {},
     "output_type": "execute_result"
    }
   ],
   "source": [
    "customerwise_monthlywise_profit_and_quantity = df.groupby(['Customer Name']).resample('ME')['Quantity', 'Profit'].sum()\n",
    "customerwise_monthlywise_profit_and_quantity"
   ]
  },
  {
   "cell_type": "markdown",
   "id": "2f15feea-5f2b-4729-8a56-0b022d134494",
   "metadata": {},
   "source": [
    "<b>25)Which customers purchased the most quantity or generated the highest profit in a given month?</b>"
   ]
  },
  {
   "cell_type": "code",
   "execution_count": 105,
   "id": "be5b7761-f9d4-44c0-a7d9-497428b21047",
   "metadata": {},
   "outputs": [
    {
     "data": {
      "text/html": [
       "<div>\n",
       "<style scoped>\n",
       "    .dataframe tbody tr th:only-of-type {\n",
       "        vertical-align: middle;\n",
       "    }\n",
       "\n",
       "    .dataframe tbody tr th {\n",
       "        vertical-align: top;\n",
       "    }\n",
       "\n",
       "    .dataframe thead th {\n",
       "        text-align: right;\n",
       "    }\n",
       "</style>\n",
       "<table border=\"1\" class=\"dataframe\">\n",
       "  <thead>\n",
       "    <tr style=\"text-align: right;\">\n",
       "      <th></th>\n",
       "      <th></th>\n",
       "      <th>Quantity</th>\n",
       "      <th>Profit</th>\n",
       "    </tr>\n",
       "    <tr>\n",
       "      <th>Customer Name</th>\n",
       "      <th>Order Date</th>\n",
       "      <th></th>\n",
       "      <th></th>\n",
       "    </tr>\n",
       "  </thead>\n",
       "  <tbody>\n",
       "    <tr>\n",
       "      <th rowspan=\"5\" valign=\"top\">Aaron Bergman</th>\n",
       "      <th>2014-02-28</th>\n",
       "      <td>2</td>\n",
       "      <td>-2.5248</td>\n",
       "    </tr>\n",
       "    <tr>\n",
       "      <th>2014-03-31</th>\n",
       "      <td>7</td>\n",
       "      <td>15.0033</td>\n",
       "    </tr>\n",
       "    <tr>\n",
       "      <th>2014-04-30</th>\n",
       "      <td>0</td>\n",
       "      <td>0.0000</td>\n",
       "    </tr>\n",
       "    <tr>\n",
       "      <th>2014-05-31</th>\n",
       "      <td>0</td>\n",
       "      <td>0.0000</td>\n",
       "    </tr>\n",
       "    <tr>\n",
       "      <th>2014-06-30</th>\n",
       "      <td>0</td>\n",
       "      <td>0.0000</td>\n",
       "    </tr>\n",
       "    <tr>\n",
       "      <th>...</th>\n",
       "      <th>...</th>\n",
       "      <td>...</td>\n",
       "      <td>...</td>\n",
       "    </tr>\n",
       "    <tr>\n",
       "      <th rowspan=\"5\" valign=\"top\">Zuschuss Donatelli</th>\n",
       "      <th>2017-02-28</th>\n",
       "      <td>0</td>\n",
       "      <td>0.0000</td>\n",
       "    </tr>\n",
       "    <tr>\n",
       "      <th>2017-03-31</th>\n",
       "      <td>0</td>\n",
       "      <td>0.0000</td>\n",
       "    </tr>\n",
       "    <tr>\n",
       "      <th>2017-04-30</th>\n",
       "      <td>0</td>\n",
       "      <td>0.0000</td>\n",
       "    </tr>\n",
       "    <tr>\n",
       "      <th>2017-05-31</th>\n",
       "      <td>0</td>\n",
       "      <td>0.0000</td>\n",
       "    </tr>\n",
       "    <tr>\n",
       "      <th>2017-06-30</th>\n",
       "      <td>3</td>\n",
       "      <td>16.5888</td>\n",
       "    </tr>\n",
       "  </tbody>\n",
       "</table>\n",
       "<p>26818 rows × 2 columns</p>\n",
       "</div>"
      ],
      "text/plain": [
       "                               Quantity   Profit\n",
       "Customer Name      Order Date                   \n",
       "Aaron Bergman      2014-02-28         2  -2.5248\n",
       "                   2014-03-31         7  15.0033\n",
       "                   2014-04-30         0   0.0000\n",
       "                   2014-05-31         0   0.0000\n",
       "                   2014-06-30         0   0.0000\n",
       "...                                 ...      ...\n",
       "Zuschuss Donatelli 2017-02-28         0   0.0000\n",
       "                   2017-03-31         0   0.0000\n",
       "                   2017-04-30         0   0.0000\n",
       "                   2017-05-31         0   0.0000\n",
       "                   2017-06-30         3  16.5888\n",
       "\n",
       "[26818 rows x 2 columns]"
      ]
     },
     "execution_count": 105,
     "metadata": {},
     "output_type": "execute_result"
    }
   ],
   "source": [
    "monthwise_generate_profit_customername=df.groupby(['Customer Name']).resample('ME')[['Quantity','Profit']].sum()\n",
    "monthwise_generate_profit_customername"
   ]
  },
  {
   "cell_type": "markdown",
   "id": "1c9f1196-f6c4-4f37-bbaa-8ef21fd3c5a1",
   "metadata": {},
   "source": [
    "<b>26)How do individual customer purchases vary across different months?</b>"
   ]
  },
  {
   "cell_type": "code",
   "execution_count": 106,
   "id": "a6755353-e4a2-4fd7-9efd-24a74320e0bb",
   "metadata": {},
   "outputs": [
    {
     "data": {
      "text/plain": [
       "Customer Name       Order Date\n",
       "Aaron Bergman       2014-02-28    1\n",
       "                    2014-03-31    3\n",
       "                    2014-04-30    0\n",
       "                    2014-05-31    0\n",
       "                    2014-06-30    0\n",
       "                                 ..\n",
       "Zuschuss Donatelli  2017-02-28    0\n",
       "                    2017-03-31    0\n",
       "                    2017-04-30    0\n",
       "                    2017-05-31    0\n",
       "                    2017-06-30    1\n",
       "Name: Product Name, Length: 26818, dtype: int64"
      ]
     },
     "execution_count": 106,
     "metadata": {},
     "output_type": "execute_result"
    }
   ],
   "source": [
    "customer_purchase_monthwise=df.groupby(['Customer Name']).resample('ME')['Product Name'].count()\n",
    "customer_purchase_monthwise"
   ]
  },
  {
   "cell_type": "markdown",
   "id": "1c490bf4-e4d6-45d2-acd2-fb4a479e0020",
   "metadata": {},
   "source": [
    "<h4><B>Product  wise Analysis</b></h4>"
   ]
  },
  {
   "cell_type": "markdown",
   "id": "9e0bba86-fac5-4d8b-822b-884d527152a0",
   "metadata": {},
   "source": [
    "<b>27)Most Selling Product</b>"
   ]
  },
  {
   "cell_type": "code",
   "execution_count": 107,
   "id": "fdfd6b53-12aa-471b-b243-27ae7a16a3a5",
   "metadata": {},
   "outputs": [
    {
     "data": {
      "text/plain": [
       "Product Name\n",
       "Canon imageCLASS 2200 Advanced Copier                                          61599.824\n",
       "Fellowes PB500 Electric Punch Plastic Comb Binding Machine with Manual Bind    27453.384\n",
       "Cisco TelePresence System EX90 Videoconferencing Unit                          22638.480\n",
       "HON 5400 Series Task Chairs for Big and Tall                                   21870.576\n",
       "GBC DocuBind TL300 Electric Binding System                                     19823.479\n",
       "                                                                                 ...    \n",
       "Avery Hi-Liter Pen Style Six-Color Fluorescent Set                                 7.700\n",
       "Grip Seal Envelopes                                                                7.072\n",
       "Xerox 20                                                                           6.480\n",
       "Avery 5                                                                            5.760\n",
       "Eureka Disposable Bags for Sanitaire Vibra Groomer I Upright Vac                   1.624\n",
       "Name: Sales, Length: 1850, dtype: float64"
      ]
     },
     "execution_count": 107,
     "metadata": {},
     "output_type": "execute_result"
    }
   ],
   "source": [
    "mostselling_product=df.groupby('Product Name')['Sales'].sum().sort_values(ascending=False)\n",
    "mostselling_product"
   ]
  },
  {
   "cell_type": "markdown",
   "id": "b3f9beea-6248-4e2d-8b93-f05b72e8d396",
   "metadata": {},
   "source": [
    "<b>28)Product Selling by Time Segments (Quaterwise)</b>"
   ]
  },
  {
   "cell_type": "code",
   "execution_count": 108,
   "id": "cb43a45d-c061-4406-b40e-b974e4ac9205",
   "metadata": {},
   "outputs": [
    {
     "data": {
      "text/plain": [
       "Order Date\n",
       "2014-03-31     282\n",
       "2014-06-30     392\n",
       "2014-09-30     564\n",
       "2014-12-31     755\n",
       "2015-03-31     260\n",
       "2015-06-30     444\n",
       "2015-09-30     592\n",
       "2015-12-31     806\n",
       "2016-03-31     335\n",
       "2016-06-30     594\n",
       "2016-09-30     740\n",
       "2016-12-31     918\n",
       "2017-03-31     500\n",
       "2017-06-30     690\n",
       "2017-09-30     903\n",
       "2017-12-31    1219\n",
       "Freq: QE-DEC, Name: Product Name, dtype: int64"
      ]
     },
     "execution_count": 108,
     "metadata": {},
     "output_type": "execute_result"
    }
   ],
   "source": [
    "quaterwise_product_selling=df['Product Name'].resample('QE').count()\n",
    "quaterwise_product_selling"
   ]
  },
  {
   "cell_type": "markdown",
   "id": "3fc5eb5e-b487-4464-97f8-d151993b06d2",
   "metadata": {},
   "source": [
    "<b>29)Product Selling By Time Segments(15DAYS)</b>"
   ]
  },
  {
   "cell_type": "code",
   "execution_count": 109,
   "id": "e1c75322-af5f-4acc-bfa9-0d17a55af1a2",
   "metadata": {},
   "outputs": [
    {
     "data": {
      "text/plain": [
       "Order Date\n",
       "2014-01-31     79\n",
       "2014-02-28     46\n",
       "2014-03-31    157\n",
       "2014-04-30    135\n",
       "2014-05-31    122\n",
       "2014-06-30    135\n",
       "2014-07-31    143\n",
       "2014-08-31    153\n",
       "2014-09-30    268\n",
       "2014-10-31    159\n",
       "2014-11-30    318\n",
       "2014-12-31    278\n",
       "2015-01-31     58\n",
       "2015-02-28     64\n",
       "2015-03-31    138\n",
       "2015-04-30    160\n",
       "2015-05-31    146\n",
       "2015-06-30    138\n",
       "2015-07-31    140\n",
       "2015-08-31    159\n",
       "2015-09-30    293\n",
       "2015-10-31    166\n",
       "2015-11-30    324\n",
       "2015-12-31    316\n",
       "2016-01-31     89\n",
       "2016-02-29     83\n",
       "2016-03-31    163\n",
       "2016-04-30    170\n",
       "2016-05-31    225\n",
       "2016-06-30    199\n",
       "2016-07-31    201\n",
       "2016-08-31    176\n",
       "2016-09-30    363\n",
       "2016-10-31    196\n",
       "2016-11-30    370\n",
       "2016-12-31    352\n",
       "2017-01-31    155\n",
       "2017-02-28    107\n",
       "2017-03-31    238\n",
       "2017-04-30    203\n",
       "2017-05-31    242\n",
       "2017-06-30    245\n",
       "2017-07-31    226\n",
       "2017-08-31    218\n",
       "2017-09-30    459\n",
       "2017-10-31    298\n",
       "2017-11-30    459\n",
       "2017-12-31    462\n",
       "Freq: ME, Name: Product Name, dtype: int64"
      ]
     },
     "execution_count": 109,
     "metadata": {},
     "output_type": "execute_result"
    }
   ],
   "source": [
    "fifteendayswise_product_selling=df['Product Name'].resample('ME').count()\n",
    "fifteendayswise_product_selling"
   ]
  },
  {
   "cell_type": "markdown",
   "id": "3f1efd8e-bce8-47bd-a8be-c8bb9cf6dd36",
   "metadata": {},
   "source": [
    "<b>30)Product Selling By Time Segments(Monthly)</b>"
   ]
  },
  {
   "cell_type": "code",
   "execution_count": 110,
   "id": "c9d8b397-5547-4e84-8831-8a531979311a",
   "metadata": {},
   "outputs": [
    {
     "data": {
      "text/plain": [
       "Order Date\n",
       "2014-01-31     79\n",
       "2014-02-28     46\n",
       "2014-03-31    157\n",
       "2014-04-30    135\n",
       "2014-05-31    122\n",
       "2014-06-30    135\n",
       "2014-07-31    143\n",
       "2014-08-31    153\n",
       "2014-09-30    268\n",
       "2014-10-31    159\n",
       "2014-11-30    318\n",
       "2014-12-31    278\n",
       "2015-01-31     58\n",
       "2015-02-28     64\n",
       "2015-03-31    138\n",
       "2015-04-30    160\n",
       "2015-05-31    146\n",
       "2015-06-30    138\n",
       "2015-07-31    140\n",
       "2015-08-31    159\n",
       "2015-09-30    293\n",
       "2015-10-31    166\n",
       "2015-11-30    324\n",
       "2015-12-31    316\n",
       "2016-01-31     89\n",
       "2016-02-29     83\n",
       "2016-03-31    163\n",
       "2016-04-30    170\n",
       "2016-05-31    225\n",
       "2016-06-30    199\n",
       "2016-07-31    201\n",
       "2016-08-31    176\n",
       "2016-09-30    363\n",
       "2016-10-31    196\n",
       "2016-11-30    370\n",
       "2016-12-31    352\n",
       "2017-01-31    155\n",
       "2017-02-28    107\n",
       "2017-03-31    238\n",
       "2017-04-30    203\n",
       "2017-05-31    242\n",
       "2017-06-30    245\n",
       "2017-07-31    226\n",
       "2017-08-31    218\n",
       "2017-09-30    459\n",
       "2017-10-31    298\n",
       "2017-11-30    459\n",
       "2017-12-31    462\n",
       "Freq: ME, Name: Product Name, dtype: int64"
      ]
     },
     "execution_count": 110,
     "metadata": {},
     "output_type": "execute_result"
    }
   ],
   "source": [
    "monthwise_product_selling=df['Product Name'].resample('ME').count()\n",
    "monthwise_product_selling"
   ]
  },
  {
   "cell_type": "markdown",
   "id": "42aa2c3d-589c-4e4e-b3fa-c745711abaf9",
   "metadata": {},
   "source": [
    "<b>31)Product Selling By Time Segments(Yearly)</b>"
   ]
  },
  {
   "cell_type": "code",
   "execution_count": 111,
   "id": "ec45e813-995a-427e-9d1a-f156eb0a1834",
   "metadata": {},
   "outputs": [
    {
     "data": {
      "text/plain": [
       "Order Date\n",
       "2014-12-31    1993\n",
       "2015-12-31    2102\n",
       "2016-12-31    2587\n",
       "2017-12-31    3312\n",
       "Freq: YE-DEC, Name: Product Name, dtype: int64"
      ]
     },
     "execution_count": 111,
     "metadata": {},
     "output_type": "execute_result"
    }
   ],
   "source": [
    "yearly_product_selling=df['Product Name'].resample('YE').count()\n",
    "yearly_product_selling"
   ]
  },
  {
   "cell_type": "markdown",
   "id": "d2fb342c-2c55-4409-bd10-8dfb6699107a",
   "metadata": {},
   "source": [
    "<b>32)Repeat Customers</b>"
   ]
  },
  {
   "cell_type": "code",
   "execution_count": 112,
   "id": "e1bce64c-3371-4c76-8595-81027b8b0186",
   "metadata": {},
   "outputs": [
    {
     "data": {
      "text/plain": [
       "781"
      ]
     },
     "execution_count": 112,
     "metadata": {},
     "output_type": "execute_result"
    }
   ],
   "source": [
    "order_status=df.groupby('Customer ID')['Order ID'].nunique()\n",
    "# order_status\n",
    "\n",
    "repeat_customers=order_status[order_status > 1]\n",
    "# # repeat_customers\n",
    "\n",
    "total_repeat_customers=repeat_customers.count()\n",
    "total_repeat_customers"
   ]
  },
  {
   "cell_type": "markdown",
   "id": "cea5c5a8-cce8-4b4c-bde7-0dff9ddfbe35",
   "metadata": {},
   "source": [
    "<h4><b>Trend Analysis (Moving Averages)</b></h4>"
   ]
  },
  {
   "cell_type": "markdown",
   "id": "b04e42bd-0575-4b30-a51a-4b00c2e12f20",
   "metadata": {},
   "source": [
    "<b>32)Monthly Trends Analysis </b>"
   ]
  },
  {
   "cell_type": "code",
   "execution_count": 113,
   "id": "c3ce145f-a047-4bc2-8fef-b0a3641fe71e",
   "metadata": {},
   "outputs": [
    {
     "data": {
      "text/html": [
       "<div>\n",
       "<style scoped>\n",
       "    .dataframe tbody tr th:only-of-type {\n",
       "        vertical-align: middle;\n",
       "    }\n",
       "\n",
       "    .dataframe tbody tr th {\n",
       "        vertical-align: top;\n",
       "    }\n",
       "\n",
       "    .dataframe thead th {\n",
       "        text-align: right;\n",
       "    }\n",
       "</style>\n",
       "<table border=\"1\" class=\"dataframe\">\n",
       "  <thead>\n",
       "    <tr style=\"text-align: right;\">\n",
       "      <th></th>\n",
       "      <th>Sales</th>\n",
       "      <th>Profit</th>\n",
       "    </tr>\n",
       "    <tr>\n",
       "      <th>Order Date</th>\n",
       "      <th></th>\n",
       "      <th></th>\n",
       "    </tr>\n",
       "  </thead>\n",
       "  <tbody>\n",
       "    <tr>\n",
       "      <th>2014-01-31</th>\n",
       "      <td>14236.8950</td>\n",
       "      <td>2450.1907</td>\n",
       "    </tr>\n",
       "    <tr>\n",
       "      <th>2014-02-28</th>\n",
       "      <td>4519.8920</td>\n",
       "      <td>862.3084</td>\n",
       "    </tr>\n",
       "    <tr>\n",
       "      <th>2014-03-31</th>\n",
       "      <td>55691.0090</td>\n",
       "      <td>498.7299</td>\n",
       "    </tr>\n",
       "    <tr>\n",
       "      <th>2014-04-30</th>\n",
       "      <td>28295.3450</td>\n",
       "      <td>3488.8352</td>\n",
       "    </tr>\n",
       "    <tr>\n",
       "      <th>2014-05-31</th>\n",
       "      <td>23648.2870</td>\n",
       "      <td>2738.7096</td>\n",
       "    </tr>\n",
       "    <tr>\n",
       "      <th>2014-06-30</th>\n",
       "      <td>34595.1276</td>\n",
       "      <td>4976.5244</td>\n",
       "    </tr>\n",
       "    <tr>\n",
       "      <th>2014-07-31</th>\n",
       "      <td>33946.3930</td>\n",
       "      <td>-841.4826</td>\n",
       "    </tr>\n",
       "    <tr>\n",
       "      <th>2014-08-31</th>\n",
       "      <td>27909.4685</td>\n",
       "      <td>5318.1050</td>\n",
       "    </tr>\n",
       "    <tr>\n",
       "      <th>2014-09-30</th>\n",
       "      <td>81777.3508</td>\n",
       "      <td>8328.0994</td>\n",
       "    </tr>\n",
       "    <tr>\n",
       "      <th>2014-10-31</th>\n",
       "      <td>31453.3930</td>\n",
       "      <td>3448.2573</td>\n",
       "    </tr>\n",
       "    <tr>\n",
       "      <th>2014-11-30</th>\n",
       "      <td>78628.7167</td>\n",
       "      <td>9292.1269</td>\n",
       "    </tr>\n",
       "    <tr>\n",
       "      <th>2014-12-31</th>\n",
       "      <td>69545.6205</td>\n",
       "      <td>8983.5699</td>\n",
       "    </tr>\n",
       "    <tr>\n",
       "      <th>2015-01-31</th>\n",
       "      <td>18174.0756</td>\n",
       "      <td>-3281.0070</td>\n",
       "    </tr>\n",
       "    <tr>\n",
       "      <th>2015-02-28</th>\n",
       "      <td>11951.4110</td>\n",
       "      <td>2813.8508</td>\n",
       "    </tr>\n",
       "    <tr>\n",
       "      <th>2015-03-31</th>\n",
       "      <td>38726.2520</td>\n",
       "      <td>9732.0978</td>\n",
       "    </tr>\n",
       "    <tr>\n",
       "      <th>2015-04-30</th>\n",
       "      <td>34195.2085</td>\n",
       "      <td>4187.4962</td>\n",
       "    </tr>\n",
       "    <tr>\n",
       "      <th>2015-05-31</th>\n",
       "      <td>30131.6865</td>\n",
       "      <td>4667.8690</td>\n",
       "    </tr>\n",
       "    <tr>\n",
       "      <th>2015-06-30</th>\n",
       "      <td>24797.2920</td>\n",
       "      <td>3335.5572</td>\n",
       "    </tr>\n",
       "    <tr>\n",
       "      <th>2015-07-31</th>\n",
       "      <td>28765.3250</td>\n",
       "      <td>3288.6483</td>\n",
       "    </tr>\n",
       "    <tr>\n",
       "      <th>2015-08-31</th>\n",
       "      <td>36898.3322</td>\n",
       "      <td>5355.8084</td>\n",
       "    </tr>\n",
       "    <tr>\n",
       "      <th>2015-09-30</th>\n",
       "      <td>64595.9180</td>\n",
       "      <td>8209.1627</td>\n",
       "    </tr>\n",
       "    <tr>\n",
       "      <th>2015-10-31</th>\n",
       "      <td>31404.9235</td>\n",
       "      <td>2817.3660</td>\n",
       "    </tr>\n",
       "    <tr>\n",
       "      <th>2015-11-30</th>\n",
       "      <td>75972.5635</td>\n",
       "      <td>12474.7884</td>\n",
       "    </tr>\n",
       "    <tr>\n",
       "      <th>2015-12-31</th>\n",
       "      <td>74919.5212</td>\n",
       "      <td>8016.9659</td>\n",
       "    </tr>\n",
       "    <tr>\n",
       "      <th>2016-01-31</th>\n",
       "      <td>18542.4910</td>\n",
       "      <td>2824.8233</td>\n",
       "    </tr>\n",
       "    <tr>\n",
       "      <th>2016-02-29</th>\n",
       "      <td>22978.8150</td>\n",
       "      <td>5004.5795</td>\n",
       "    </tr>\n",
       "    <tr>\n",
       "      <th>2016-03-31</th>\n",
       "      <td>51715.8750</td>\n",
       "      <td>3611.9680</td>\n",
       "    </tr>\n",
       "    <tr>\n",
       "      <th>2016-04-30</th>\n",
       "      <td>38750.0390</td>\n",
       "      <td>2977.8149</td>\n",
       "    </tr>\n",
       "    <tr>\n",
       "      <th>2016-05-31</th>\n",
       "      <td>56987.7280</td>\n",
       "      <td>8662.1464</td>\n",
       "    </tr>\n",
       "    <tr>\n",
       "      <th>2016-06-30</th>\n",
       "      <td>40344.5340</td>\n",
       "      <td>4750.3781</td>\n",
       "    </tr>\n",
       "    <tr>\n",
       "      <th>2016-07-31</th>\n",
       "      <td>39261.9630</td>\n",
       "      <td>4432.8779</td>\n",
       "    </tr>\n",
       "    <tr>\n",
       "      <th>2016-08-31</th>\n",
       "      <td>31115.3743</td>\n",
       "      <td>2062.0693</td>\n",
       "    </tr>\n",
       "    <tr>\n",
       "      <th>2016-09-30</th>\n",
       "      <td>73410.0249</td>\n",
       "      <td>9328.6576</td>\n",
       "    </tr>\n",
       "    <tr>\n",
       "      <th>2016-10-31</th>\n",
       "      <td>59687.7450</td>\n",
       "      <td>16243.1425</td>\n",
       "    </tr>\n",
       "    <tr>\n",
       "      <th>2016-11-30</th>\n",
       "      <td>79411.9658</td>\n",
       "      <td>4011.4075</td>\n",
       "    </tr>\n",
       "    <tr>\n",
       "      <th>2016-12-31</th>\n",
       "      <td>96999.0430</td>\n",
       "      <td>17885.3093</td>\n",
       "    </tr>\n",
       "    <tr>\n",
       "      <th>2017-01-31</th>\n",
       "      <td>43971.3740</td>\n",
       "      <td>7140.4391</td>\n",
       "    </tr>\n",
       "    <tr>\n",
       "      <th>2017-02-28</th>\n",
       "      <td>20301.1334</td>\n",
       "      <td>1613.8720</td>\n",
       "    </tr>\n",
       "    <tr>\n",
       "      <th>2017-03-31</th>\n",
       "      <td>58872.3528</td>\n",
       "      <td>14751.8915</td>\n",
       "    </tr>\n",
       "    <tr>\n",
       "      <th>2017-04-30</th>\n",
       "      <td>36521.5361</td>\n",
       "      <td>933.2900</td>\n",
       "    </tr>\n",
       "    <tr>\n",
       "      <th>2017-05-31</th>\n",
       "      <td>44261.1102</td>\n",
       "      <td>6342.5828</td>\n",
       "    </tr>\n",
       "    <tr>\n",
       "      <th>2017-06-30</th>\n",
       "      <td>52981.7257</td>\n",
       "      <td>8223.3357</td>\n",
       "    </tr>\n",
       "    <tr>\n",
       "      <th>2017-07-31</th>\n",
       "      <td>45264.4160</td>\n",
       "      <td>6952.6212</td>\n",
       "    </tr>\n",
       "    <tr>\n",
       "      <th>2017-08-31</th>\n",
       "      <td>63120.8880</td>\n",
       "      <td>9040.9557</td>\n",
       "    </tr>\n",
       "    <tr>\n",
       "      <th>2017-09-30</th>\n",
       "      <td>87866.6520</td>\n",
       "      <td>10991.5556</td>\n",
       "    </tr>\n",
       "    <tr>\n",
       "      <th>2017-10-31</th>\n",
       "      <td>77776.9232</td>\n",
       "      <td>9275.2755</td>\n",
       "    </tr>\n",
       "    <tr>\n",
       "      <th>2017-11-30</th>\n",
       "      <td>118447.8250</td>\n",
       "      <td>9690.1037</td>\n",
       "    </tr>\n",
       "    <tr>\n",
       "      <th>2017-12-31</th>\n",
       "      <td>83829.3188</td>\n",
       "      <td>8483.3468</td>\n",
       "    </tr>\n",
       "  </tbody>\n",
       "</table>\n",
       "</div>"
      ],
      "text/plain": [
       "                  Sales      Profit\n",
       "Order Date                         \n",
       "2014-01-31   14236.8950   2450.1907\n",
       "2014-02-28    4519.8920    862.3084\n",
       "2014-03-31   55691.0090    498.7299\n",
       "2014-04-30   28295.3450   3488.8352\n",
       "2014-05-31   23648.2870   2738.7096\n",
       "2014-06-30   34595.1276   4976.5244\n",
       "2014-07-31   33946.3930   -841.4826\n",
       "2014-08-31   27909.4685   5318.1050\n",
       "2014-09-30   81777.3508   8328.0994\n",
       "2014-10-31   31453.3930   3448.2573\n",
       "2014-11-30   78628.7167   9292.1269\n",
       "2014-12-31   69545.6205   8983.5699\n",
       "2015-01-31   18174.0756  -3281.0070\n",
       "2015-02-28   11951.4110   2813.8508\n",
       "2015-03-31   38726.2520   9732.0978\n",
       "2015-04-30   34195.2085   4187.4962\n",
       "2015-05-31   30131.6865   4667.8690\n",
       "2015-06-30   24797.2920   3335.5572\n",
       "2015-07-31   28765.3250   3288.6483\n",
       "2015-08-31   36898.3322   5355.8084\n",
       "2015-09-30   64595.9180   8209.1627\n",
       "2015-10-31   31404.9235   2817.3660\n",
       "2015-11-30   75972.5635  12474.7884\n",
       "2015-12-31   74919.5212   8016.9659\n",
       "2016-01-31   18542.4910   2824.8233\n",
       "2016-02-29   22978.8150   5004.5795\n",
       "2016-03-31   51715.8750   3611.9680\n",
       "2016-04-30   38750.0390   2977.8149\n",
       "2016-05-31   56987.7280   8662.1464\n",
       "2016-06-30   40344.5340   4750.3781\n",
       "2016-07-31   39261.9630   4432.8779\n",
       "2016-08-31   31115.3743   2062.0693\n",
       "2016-09-30   73410.0249   9328.6576\n",
       "2016-10-31   59687.7450  16243.1425\n",
       "2016-11-30   79411.9658   4011.4075\n",
       "2016-12-31   96999.0430  17885.3093\n",
       "2017-01-31   43971.3740   7140.4391\n",
       "2017-02-28   20301.1334   1613.8720\n",
       "2017-03-31   58872.3528  14751.8915\n",
       "2017-04-30   36521.5361    933.2900\n",
       "2017-05-31   44261.1102   6342.5828\n",
       "2017-06-30   52981.7257   8223.3357\n",
       "2017-07-31   45264.4160   6952.6212\n",
       "2017-08-31   63120.8880   9040.9557\n",
       "2017-09-30   87866.6520  10991.5556\n",
       "2017-10-31   77776.9232   9275.2755\n",
       "2017-11-30  118447.8250   9690.1037\n",
       "2017-12-31   83829.3188   8483.3468"
      ]
     },
     "execution_count": 113,
     "metadata": {},
     "output_type": "execute_result"
    }
   ],
   "source": [
    "monthlydata=df.resample('ME')['Sales','Profit'].sum()\n",
    "monthlydata"
   ]
  },
  {
   "cell_type": "code",
   "execution_count": 114,
   "id": "c0cad313-1166-4ce2-bc61-326c14790203",
   "metadata": {},
   "outputs": [
    {
     "data": {
      "image/png": "[encoded data removed]",
      "text/plain": [
       "<Figure size 1400x600 with 1 Axes>"
      ]
     },
     "metadata": {},
     "output_type": "display_data"
    }
   ],
   "source": [
    "# 3-month moving average (change the window size as needed)\n",
    "monthlydata['Sales_MA_3'] = monthlydata['Sales'].rolling(window=3).mean()\n",
    "monthlydata['Profit_MA_3'] = monthlydata['Profit'].rolling(window=3).mean()\n",
    "\n",
    "import matplotlib.pyplot as plt\n",
    "\n",
    "plt.figure(figsize=(14,6))\n",
    "plt.plot(monthlydata.index, monthlydata['Sales'], label='Monthly Sales', alpha=0.5)\n",
    "plt.plot(monthlydata.index, monthlydata['Sales_MA_3'], label='3-Month Moving Avg (Sales)', color='green')\n",
    "plt.title(\"Sales & Moving Average\")\n",
    "plt.xlabel(\"Month\")\n",
    "plt.ylabel(\"Sales ₹\")\n",
    "plt.legend()\n",
    "plt.grid(True)\n",
    "plt.show()\n"
   ]
  },
  {
   "cell_type": "markdown",
   "id": "2ca961cf-dbd4-497b-9e85-0722803a6c5c",
   "metadata": {},
   "source": [
    "<b>33)Quaterly Trends Analysis</b>"
   ]
  },
  {
   "cell_type": "code",
   "execution_count": 115,
   "id": "d96b97fb-42d7-41e1-8161-e64297bc0216",
   "metadata": {},
   "outputs": [
    {
     "data": {
      "text/html": [
       "<div>\n",
       "<style scoped>\n",
       "    .dataframe tbody tr th:only-of-type {\n",
       "        vertical-align: middle;\n",
       "    }\n",
       "\n",
       "    .dataframe tbody tr th {\n",
       "        vertical-align: top;\n",
       "    }\n",
       "\n",
       "    .dataframe thead th {\n",
       "        text-align: right;\n",
       "    }\n",
       "</style>\n",
       "<table border=\"1\" class=\"dataframe\">\n",
       "  <thead>\n",
       "    <tr style=\"text-align: right;\">\n",
       "      <th></th>\n",
       "      <th>Profit</th>\n",
       "      <th>Sales</th>\n",
       "    </tr>\n",
       "    <tr>\n",
       "      <th>Order Date</th>\n",
       "      <th></th>\n",
       "      <th></th>\n",
       "    </tr>\n",
       "  </thead>\n",
       "  <tbody>\n",
       "    <tr>\n",
       "      <th>2014-03-31</th>\n",
       "      <td>3811.2290</td>\n",
       "      <td>74447.7960</td>\n",
       "    </tr>\n",
       "    <tr>\n",
       "      <th>2014-06-30</th>\n",
       "      <td>11204.0692</td>\n",
       "      <td>86538.7596</td>\n",
       "    </tr>\n",
       "    <tr>\n",
       "      <th>2014-09-30</th>\n",
       "      <td>12804.7218</td>\n",
       "      <td>143633.2123</td>\n",
       "    </tr>\n",
       "    <tr>\n",
       "      <th>2014-12-31</th>\n",
       "      <td>21723.9541</td>\n",
       "      <td>179627.7302</td>\n",
       "    </tr>\n",
       "    <tr>\n",
       "      <th>2015-03-31</th>\n",
       "      <td>9264.9416</td>\n",
       "      <td>68851.7386</td>\n",
       "    </tr>\n",
       "    <tr>\n",
       "      <th>2015-06-30</th>\n",
       "      <td>12190.9224</td>\n",
       "      <td>89124.1870</td>\n",
       "    </tr>\n",
       "    <tr>\n",
       "      <th>2015-09-30</th>\n",
       "      <td>16853.6194</td>\n",
       "      <td>130259.5752</td>\n",
       "    </tr>\n",
       "    <tr>\n",
       "      <th>2015-12-31</th>\n",
       "      <td>23309.1203</td>\n",
       "      <td>182297.0082</td>\n",
       "    </tr>\n",
       "    <tr>\n",
       "      <th>2016-03-31</th>\n",
       "      <td>11441.3708</td>\n",
       "      <td>93237.1810</td>\n",
       "    </tr>\n",
       "    <tr>\n",
       "      <th>2016-06-30</th>\n",
       "      <td>16390.3394</td>\n",
       "      <td>136082.3010</td>\n",
       "    </tr>\n",
       "    <tr>\n",
       "      <th>2016-09-30</th>\n",
       "      <td>15823.6048</td>\n",
       "      <td>143787.3622</td>\n",
       "    </tr>\n",
       "    <tr>\n",
       "      <th>2016-12-31</th>\n",
       "      <td>38139.8593</td>\n",
       "      <td>236098.7538</td>\n",
       "    </tr>\n",
       "    <tr>\n",
       "      <th>2017-03-31</th>\n",
       "      <td>23506.2026</td>\n",
       "      <td>123144.8602</td>\n",
       "    </tr>\n",
       "    <tr>\n",
       "      <th>2017-06-30</th>\n",
       "      <td>15499.2085</td>\n",
       "      <td>133764.3720</td>\n",
       "    </tr>\n",
       "    <tr>\n",
       "      <th>2017-09-30</th>\n",
       "      <td>26985.1325</td>\n",
       "      <td>196251.9560</td>\n",
       "    </tr>\n",
       "    <tr>\n",
       "      <th>2017-12-31</th>\n",
       "      <td>27448.7260</td>\n",
       "      <td>280054.0670</td>\n",
       "    </tr>\n",
       "  </tbody>\n",
       "</table>\n",
       "</div>"
      ],
      "text/plain": [
       "                Profit        Sales\n",
       "Order Date                         \n",
       "2014-03-31   3811.2290   74447.7960\n",
       "2014-06-30  11204.0692   86538.7596\n",
       "2014-09-30  12804.7218  143633.2123\n",
       "2014-12-31  21723.9541  179627.7302\n",
       "2015-03-31   9264.9416   68851.7386\n",
       "2015-06-30  12190.9224   89124.1870\n",
       "2015-09-30  16853.6194  130259.5752\n",
       "2015-12-31  23309.1203  182297.0082\n",
       "2016-03-31  11441.3708   93237.1810\n",
       "2016-06-30  16390.3394  136082.3010\n",
       "2016-09-30  15823.6048  143787.3622\n",
       "2016-12-31  38139.8593  236098.7538\n",
       "2017-03-31  23506.2026  123144.8602\n",
       "2017-06-30  15499.2085  133764.3720\n",
       "2017-09-30  26985.1325  196251.9560\n",
       "2017-12-31  27448.7260  280054.0670"
      ]
     },
     "execution_count": 115,
     "metadata": {},
     "output_type": "execute_result"
    }
   ],
   "source": [
    "quaterly_trends_analysis=df.resample('QE')['Profit','Sales'].sum()\n",
    "quaterly_trends_analysis"
   ]
  },
  {
   "cell_type": "markdown",
   "id": "71bbad54-65f8-4fe8-9e96-1753e618a91a",
   "metadata": {},
   "source": [
    "<b>33)Fifteendays Trends Analysis</b>"
   ]
  },
  {
   "cell_type": "code",
   "execution_count": 116,
   "id": "5ac3fb5d-77ed-4004-a4bd-d8464e8256bf",
   "metadata": {},
   "outputs": [
    {
     "data": {
      "text/html": [
       "<div>\n",
       "<style scoped>\n",
       "    .dataframe tbody tr th:only-of-type {\n",
       "        vertical-align: middle;\n",
       "    }\n",
       "\n",
       "    .dataframe tbody tr th {\n",
       "        vertical-align: top;\n",
       "    }\n",
       "\n",
       "    .dataframe thead th {\n",
       "        text-align: right;\n",
       "    }\n",
       "</style>\n",
       "<table border=\"1\" class=\"dataframe\">\n",
       "  <thead>\n",
       "    <tr style=\"text-align: right;\">\n",
       "      <th></th>\n",
       "      <th>Profit</th>\n",
       "      <th>Sales</th>\n",
       "    </tr>\n",
       "    <tr>\n",
       "      <th>Order Date</th>\n",
       "      <th></th>\n",
       "      <th></th>\n",
       "    </tr>\n",
       "  </thead>\n",
       "  <tbody>\n",
       "    <tr>\n",
       "      <th>2014-01-03</th>\n",
       "      <td>1947.5860</td>\n",
       "      <td>8989.2850</td>\n",
       "    </tr>\n",
       "    <tr>\n",
       "      <th>2014-01-18</th>\n",
       "      <td>708.9207</td>\n",
       "      <td>5716.5100</td>\n",
       "    </tr>\n",
       "    <tr>\n",
       "      <th>2014-02-02</th>\n",
       "      <td>612.1839</td>\n",
       "      <td>3748.6280</td>\n",
       "    </tr>\n",
       "    <tr>\n",
       "      <th>2014-02-17</th>\n",
       "      <td>-738.9406</td>\n",
       "      <td>4053.7910</td>\n",
       "    </tr>\n",
       "    <tr>\n",
       "      <th>2014-03-04</th>\n",
       "      <td>-496.2993</td>\n",
       "      <td>39315.6720</td>\n",
       "    </tr>\n",
       "    <tr>\n",
       "      <th>...</th>\n",
       "      <td>...</td>\n",
       "      <td>...</td>\n",
       "    </tr>\n",
       "    <tr>\n",
       "      <th>2017-10-29</th>\n",
       "      <td>1266.2501</td>\n",
       "      <td>51944.4030</td>\n",
       "    </tr>\n",
       "    <tr>\n",
       "      <th>2017-11-13</th>\n",
       "      <td>8561.0827</td>\n",
       "      <td>57049.9260</td>\n",
       "    </tr>\n",
       "    <tr>\n",
       "      <th>2017-11-28</th>\n",
       "      <td>2455.3228</td>\n",
       "      <td>57567.2390</td>\n",
       "    </tr>\n",
       "    <tr>\n",
       "      <th>2017-12-13</th>\n",
       "      <td>5475.2073</td>\n",
       "      <td>35025.5190</td>\n",
       "    </tr>\n",
       "    <tr>\n",
       "      <th>2017-12-28</th>\n",
       "      <td>999.0891</td>\n",
       "      <td>5286.6748</td>\n",
       "    </tr>\n",
       "  </tbody>\n",
       "</table>\n",
       "<p>98 rows × 2 columns</p>\n",
       "</div>"
      ],
      "text/plain": [
       "               Profit       Sales\n",
       "Order Date                       \n",
       "2014-01-03  1947.5860   8989.2850\n",
       "2014-01-18   708.9207   5716.5100\n",
       "2014-02-02   612.1839   3748.6280\n",
       "2014-02-17  -738.9406   4053.7910\n",
       "2014-03-04  -496.2993  39315.6720\n",
       "...               ...         ...\n",
       "2017-10-29  1266.2501  51944.4030\n",
       "2017-11-13  8561.0827  57049.9260\n",
       "2017-11-28  2455.3228  57567.2390\n",
       "2017-12-13  5475.2073  35025.5190\n",
       "2017-12-28   999.0891   5286.6748\n",
       "\n",
       "[98 rows x 2 columns]"
      ]
     },
     "execution_count": 116,
     "metadata": {},
     "output_type": "execute_result"
    }
   ],
   "source": [
    "fifteendays_trend_analysis=df.resample('15D')[['Profit','Sales']].sum()\n",
    "fifteendays_trend_analysis"
   ]
  },
  {
   "cell_type": "markdown",
   "id": "3c4a5b85-3f47-44c3-8736-d2ec0bb92092",
   "metadata": {},
   "source": [
    "<b>34)Yearly Trends Analysis</b>"
   ]
  },
  {
   "cell_type": "code",
   "execution_count": 117,
   "id": "a375a9e3-0c36-4635-9ed8-83940469392e",
   "metadata": {},
   "outputs": [
    {
     "data": {
      "text/html": [
       "<div>\n",
       "<style scoped>\n",
       "    .dataframe tbody tr th:only-of-type {\n",
       "        vertical-align: middle;\n",
       "    }\n",
       "\n",
       "    .dataframe tbody tr th {\n",
       "        vertical-align: top;\n",
       "    }\n",
       "\n",
       "    .dataframe thead th {\n",
       "        text-align: right;\n",
       "    }\n",
       "</style>\n",
       "<table border=\"1\" class=\"dataframe\">\n",
       "  <thead>\n",
       "    <tr style=\"text-align: right;\">\n",
       "      <th></th>\n",
       "      <th>Profit</th>\n",
       "      <th>Sales</th>\n",
       "    </tr>\n",
       "    <tr>\n",
       "      <th>Order Date</th>\n",
       "      <th></th>\n",
       "      <th></th>\n",
       "    </tr>\n",
       "  </thead>\n",
       "  <tbody>\n",
       "    <tr>\n",
       "      <th>2014-12-31</th>\n",
       "      <td>49543.9741</td>\n",
       "      <td>484247.4981</td>\n",
       "    </tr>\n",
       "    <tr>\n",
       "      <th>2015-12-31</th>\n",
       "      <td>61618.6037</td>\n",
       "      <td>470532.5090</td>\n",
       "    </tr>\n",
       "    <tr>\n",
       "      <th>2016-12-31</th>\n",
       "      <td>81795.1743</td>\n",
       "      <td>609205.5980</td>\n",
       "    </tr>\n",
       "    <tr>\n",
       "      <th>2017-12-31</th>\n",
       "      <td>93439.2696</td>\n",
       "      <td>733215.2552</td>\n",
       "    </tr>\n",
       "  </tbody>\n",
       "</table>\n",
       "</div>"
      ],
      "text/plain": [
       "                Profit        Sales\n",
       "Order Date                         \n",
       "2014-12-31  49543.9741  484247.4981\n",
       "2015-12-31  61618.6037  470532.5090\n",
       "2016-12-31  81795.1743  609205.5980\n",
       "2017-12-31  93439.2696  733215.2552"
      ]
     },
     "execution_count": 117,
     "metadata": {},
     "output_type": "execute_result"
    }
   ],
   "source": [
    "yearly_trend_analysis=df.resample('YE')[['Profit','Sales']].sum()\n",
    "yearly_trend_analysis"
   ]
  },
  {
   "cell_type": "code",
   "execution_count": null,
   "id": "02571528-45c1-48fd-81a1-40cee0ca5dc3",
   "metadata": {},
   "outputs": [],
   "source": []
  }
 ],
 "metadata": {
  "kernelspec": {
   "display_name": "Python 3 (ipykernel)",
   "language": "python",
   "name": "python3"
  },
  "language_info": {
   "codemirror_mode": {
    "name": "ipython",
    "version": 3
   },
   "file_extension": ".py",
   "mimetype": "text/x-python",
   "name": "python",
   "nbconvert_exporter": "python",
   "pygments_lexer": "ipython3",
   "version": "3.12.7"
  }
 },
 "nbformat": 4,
 "nbformat_minor": 5
}
